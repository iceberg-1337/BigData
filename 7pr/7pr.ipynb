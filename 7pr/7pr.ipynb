{
 "cells": [
  {
   "cell_type": "markdown",
   "source": [
    "Определить два вектора, представляющие собой число автомобилей,припаркованных в течении 5 рабочих дней у бизнес-центра на уличной стоянке и в подземном гараже.\n",
    "<table>\n",
    "<tr>\n",
    "<th>День</th>\n",
    "<th>Улица</th>\n",
    "<th>Гараж</th>\n",
    "</tr>\n",
    "\n",
    "<tr>\n",
    "<td>Понедельник</td>\n",
    "<td>80</td>\n",
    "<td>100</td>\n",
    "</tr>\n",
    "\n",
    "<tr>\n",
    "<td>Вторник</td>\n",
    "<td>98</td>\n",
    "<td>82</td>\n",
    "</tr>\n",
    "\n",
    "<tr>\n",
    "<td>Среда</td>\n",
    "<td>75</td>\n",
    "<td>105</td>\n",
    "</tr>\n",
    "\n",
    "<tr>\n",
    "<td>Четверг</td>\n",
    "<td>91</td>\n",
    "<td>89</td>\n",
    "</tr>\n",
    "\n",
    "<tr>\n",
    "<td>Пятница</td>\n",
    "<td>78</td>\n",
    "<td>102</td>\n",
    "</tr>\n",
    "\n",
    "</table>\n",
    "\n",
    "Найти и интерпретировать корреляцию между переменными «Улица» и «Гараж» (подсчитать корреляцию по Пирсону)."
   ],
   "metadata": {
    "collapsed": false
   }
  },
  {
   "cell_type": "code",
   "execution_count": 1,
   "outputs": [
    {
     "data": {
      "text/plain": "-0.9999999999999998"
     },
     "execution_count": 1,
     "metadata": {},
     "output_type": "execute_result"
    }
   ],
   "source": [
    "import numpy as np\n",
    "\n",
    "street = np.array([80, 98, 75, 91, 78])\n",
    "garage = np.array([100, 82, 105, 89, 102])\n",
    "\n",
    "np.corrcoef(street, garage)[0, 1]"
   ],
   "metadata": {
    "collapsed": false
   }
  },
  {
   "cell_type": "markdown",
   "source": [
    "Построить диаграмму рассеяния для вышеупомянутых переменных."
   ],
   "metadata": {
    "collapsed": false
   }
  },
  {
   "cell_type": "code",
   "execution_count": 2,
   "outputs": [
    {
     "data": {
      "text/plain": "<matplotlib.collections.PathCollection at 0x271b2cb1690>"
     },
     "execution_count": 2,
     "metadata": {},
     "output_type": "execute_result"
    },
    {
     "data": {
      "text/plain": "<Figure size 640x480 with 1 Axes>",
      "image/png": "[encoded data removed]"
     },
     "metadata": {},
     "output_type": "display_data"
    }
   ],
   "source": [
    "import matplotlib.pyplot as plt\n",
    "\n",
    "plt.grid(True)\n",
    "plt.title('Диаграмма рассеяния', fontsize=20)\n",
    "plt.xlabel('Машины припаркованные на улице')\n",
    "plt.xlabel('Машины припаркованные в гараже')\n",
    "plt.scatter(street, garage, marker='o', color='crimson')"
   ],
   "metadata": {
    "collapsed": false
   }
  },
  {
   "cell_type": "markdown",
   "source": [
    "Загрузить bitcoin.csv."
   ],
   "metadata": {
    "collapsed": false
   }
  },
  {
   "cell_type": "code",
   "execution_count": 3,
   "outputs": [
    {
     "data": {
      "text/plain": "      Unnamed: 0        time      high       low      open  volumefrom  \\\n0              0  2015-12-20    462.76    431.10    461.20   121531.64   \n1              1  2015-12-21    445.54    423.99    441.78   121990.88   \n2              2  2015-12-22    443.22    433.25    437.59    65785.54   \n3              3  2015-12-23    444.78    434.28    437.03    63247.04   \n4              4  2015-12-24    460.62    441.76    442.43    79604.01   \n...          ...         ...       ...       ...       ...         ...   \n1996        1996  2021-06-07  36790.39  33367.12  35798.57    52209.55   \n1997        1997  2021-06-08  34061.09  31034.35  33582.86    88483.79   \n1998        1998  2021-06-09  37528.42  32435.18  33409.38    92280.57   \n1999        1999  2021-06-10  38387.20  35821.05  37391.58    63052.49   \n2000        2000  2021-06-11  37665.85  35981.84  36680.78    33418.02   \n\n          volumeto     close  \n0     5.431648e+07    441.78  \n1     5.327022e+07    437.59  \n2     2.884554e+07    437.03  \n3     2.787735e+07    442.43  \n4     3.609666e+07    452.98  \n...            ...       ...  \n1996  1.850311e+09  33582.86  \n1997  2.890313e+09  33409.38  \n1998  3.249554e+09  37391.58  \n1999  2.338112e+09  36680.78  \n2000  1.235391e+09  36843.33  \n\n[2001 rows x 8 columns]",
      "text/html": "<div>\n<style scoped>\n    .dataframe tbody tr th:only-of-type {\n        vertical-align: middle;\n    }\n\n    .dataframe tbody tr th {\n        vertical-align: top;\n    }\n\n    .dataframe thead th {\n        text-align: right;\n    }\n</style>\n<table border=\"1\" class=\"dataframe\">\n  <thead>\n    <tr style=\"text-align: right;\">\n      <th></th>\n      <th>Unnamed: 0</th>\n      <th>time</th>\n      <th>high</th>\n      <th>low</th>\n      <th>open</th>\n      <th>volumefrom</th>\n      <th>volumeto</th>\n      <th>close</th>\n    </tr>\n  </thead>\n  <tbody>\n    <tr>\n      <th>0</th>\n      <td>0</td>\n      <td>2015-12-20</td>\n      <td>462.76</td>\n      <td>431.10</td>\n      <td>461.20</td>\n      <td>121531.64</td>\n      <td>5.431648e+07</td>\n      <td>441.78</td>\n    </tr>\n    <tr>\n      <th>1</th>\n      <td>1</td>\n      <td>2015-12-21</td>\n      <td>445.54</td>\n      <td>423.99</td>\n      <td>441.78</td>\n      <td>121990.88</td>\n      <td>5.327022e+07</td>\n      <td>437.59</td>\n    </tr>\n    <tr>\n      <th>2</th>\n      <td>2</td>\n      <td>2015-12-22</td>\n      <td>443.22</td>\n      <td>433.25</td>\n      <td>437.59</td>\n      <td>65785.54</td>\n      <td>2.884554e+07</td>\n      <td>437.03</td>\n    </tr>\n    <tr>\n      <th>3</th>\n      <td>3</td>\n      <td>2015-12-23</td>\n      <td>444.78</td>\n      <td>434.28</td>\n      <td>437.03</td>\n      <td>63247.04</td>\n      <td>2.787735e+07</td>\n      <td>442.43</td>\n    </tr>\n    <tr>\n      <th>4</th>\n      <td>4</td>\n      <td>2015-12-24</td>\n      <td>460.62</td>\n      <td>441.76</td>\n      <td>442.43</td>\n      <td>79604.01</td>\n      <td>3.609666e+07</td>\n      <td>452.98</td>\n    </tr>\n    <tr>\n      <th>...</th>\n      <td>...</td>\n      <td>...</td>\n      <td>...</td>\n      <td>...</td>\n      <td>...</td>\n      <td>...</td>\n      <td>...</td>\n      <td>...</td>\n    </tr>\n    <tr>\n      <th>1996</th>\n      <td>1996</td>\n      <td>2021-06-07</td>\n      <td>36790.39</td>\n      <td>33367.12</td>\n      <td>35798.57</td>\n      <td>52209.55</td>\n      <td>1.850311e+09</td>\n      <td>33582.86</td>\n    </tr>\n    <tr>\n      <th>1997</th>\n      <td>1997</td>\n      <td>2021-06-08</td>\n      <td>34061.09</td>\n      <td>31034.35</td>\n      <td>33582.86</td>\n      <td>88483.79</td>\n      <td>2.890313e+09</td>\n      <td>33409.38</td>\n    </tr>\n    <tr>\n      <th>1998</th>\n      <td>1998</td>\n      <td>2021-06-09</td>\n      <td>37528.42</td>\n      <td>32435.18</td>\n      <td>33409.38</td>\n      <td>92280.57</td>\n      <td>3.249554e+09</td>\n      <td>37391.58</td>\n    </tr>\n    <tr>\n      <th>1999</th>\n      <td>1999</td>\n      <td>2021-06-10</td>\n      <td>38387.20</td>\n      <td>35821.05</td>\n      <td>37391.58</td>\n      <td>63052.49</td>\n      <td>2.338112e+09</td>\n      <td>36680.78</td>\n    </tr>\n    <tr>\n      <th>2000</th>\n      <td>2000</td>\n      <td>2021-06-11</td>\n      <td>37665.85</td>\n      <td>35981.84</td>\n      <td>36680.78</td>\n      <td>33418.02</td>\n      <td>1.235391e+09</td>\n      <td>36843.33</td>\n    </tr>\n  </tbody>\n</table>\n<p>2001 rows × 8 columns</p>\n</div>"
     },
     "execution_count": 3,
     "metadata": {},
     "output_type": "execute_result"
    }
   ],
   "source": [
    "import pandas as pd\n",
    "\n",
    "read = pd.read_csv('bitcoin.csv')\n",
    "df = pd.DataFrame(read)\n",
    "df"
   ],
   "metadata": {
    "collapsed": false
   }
  },
  {
   "cell_type": "code",
   "execution_count": 3,
   "outputs": [],
   "source": [],
   "metadata": {
    "collapsed": false
   }
  }
 ],
 "metadata": {
  "kernelspec": {
   "display_name": "Python 3",
   "language": "python",
   "name": "python3"
  },
  "language_info": {
   "codemirror_mode": {
    "name": "ipython",
    "version": 2
   },
   "file_extension": ".py",
   "mimetype": "text/x-python",
   "name": "python",
   "nbconvert_exporter": "python",
   "pygments_lexer": "ipython2",
   "version": "2.7.6"
  }
 },
 "nbformat": 4,
 "nbformat_minor": 0
}

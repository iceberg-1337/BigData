{
 "cells": [
  {
   "cell_type": "code",
   "execution_count": 30,
   "metadata": {
    "pycharm": {
     "name": "#%%\n"
    }
   },
   "outputs": [
    {
     "data": {
      "text/html": [
       "<div>\n",
       "<style scoped>\n",
       "    .dataframe tbody tr th:only-of-type {\n",
       "        vertical-align: middle;\n",
       "    }\n",
       "\n",
       "    .dataframe tbody tr th {\n",
       "        vertical-align: top;\n",
       "    }\n",
       "\n",
       "    .dataframe thead th {\n",
       "        text-align: right;\n",
       "    }\n",
       "</style>\n",
       "<table border=\"1\" class=\"dataframe\">\n",
       "  <thead>\n",
       "    <tr style=\"text-align: right;\">\n",
       "      <th></th>\n",
       "      <th>CCA3</th>\n",
       "      <th>Name</th>\n",
       "      <th>2022</th>\n",
       "      <th>2020</th>\n",
       "      <th>2015</th>\n",
       "      <th>2010</th>\n",
       "      <th>2000</th>\n",
       "      <th>1990</th>\n",
       "      <th>1980</th>\n",
       "      <th>1970</th>\n",
       "      <th>Area (km²)</th>\n",
       "      <th>Density (per km²)</th>\n",
       "      <th>GrowthRate</th>\n",
       "      <th>World Population Percentage</th>\n",
       "      <th>Rank</th>\n",
       "    </tr>\n",
       "  </thead>\n",
       "  <tbody>\n",
       "    <tr>\n",
       "      <th>0</th>\n",
       "      <td>CN</td>\n",
       "      <td>China</td>\n",
       "      <td>1425887</td>\n",
       "      <td>1424930</td>\n",
       "      <td>1393715</td>\n",
       "      <td>1348191</td>\n",
       "      <td>1264099</td>\n",
       "      <td>1153704</td>\n",
       "      <td>982372</td>\n",
       "      <td>822534</td>\n",
       "      <td>9706961</td>\n",
       "      <td>146.8933</td>\n",
       "      <td>1.00</td>\n",
       "      <td>17.88%</td>\n",
       "      <td>1</td>\n",
       "    </tr>\n",
       "    <tr>\n",
       "      <th>1</th>\n",
       "      <td>IN</td>\n",
       "      <td>India</td>\n",
       "      <td>1417173</td>\n",
       "      <td>1396387</td>\n",
       "      <td>1322867</td>\n",
       "      <td>1240614</td>\n",
       "      <td>1059634</td>\n",
       "      <td>870452</td>\n",
       "      <td>696828</td>\n",
       "      <td>557501</td>\n",
       "      <td>3287590</td>\n",
       "      <td>431.0675</td>\n",
       "      <td>1.01</td>\n",
       "      <td>17.77%</td>\n",
       "      <td>2</td>\n",
       "    </tr>\n",
       "    <tr>\n",
       "      <th>2</th>\n",
       "      <td>US</td>\n",
       "      <td>United States</td>\n",
       "      <td>338290</td>\n",
       "      <td>335942</td>\n",
       "      <td>324608</td>\n",
       "      <td>311183</td>\n",
       "      <td>282399</td>\n",
       "      <td>248084</td>\n",
       "      <td>223140</td>\n",
       "      <td>200328</td>\n",
       "      <td>9372610</td>\n",
       "      <td>36.0935</td>\n",
       "      <td>1.00</td>\n",
       "      <td>4.24%</td>\n",
       "      <td>3</td>\n",
       "    </tr>\n",
       "    <tr>\n",
       "      <th>3</th>\n",
       "      <td>ID</td>\n",
       "      <td>Indonesia</td>\n",
       "      <td>275501</td>\n",
       "      <td>271858</td>\n",
       "      <td>259092</td>\n",
       "      <td>244016</td>\n",
       "      <td>214072</td>\n",
       "      <td>182160</td>\n",
       "      <td>148177</td>\n",
       "      <td>115228</td>\n",
       "      <td>1904569</td>\n",
       "      <td>144.6529</td>\n",
       "      <td>1.01</td>\n",
       "      <td>3.45%</td>\n",
       "      <td>4</td>\n",
       "    </tr>\n",
       "    <tr>\n",
       "      <th>4</th>\n",
       "      <td>PK</td>\n",
       "      <td>Pakistan</td>\n",
       "      <td>235825</td>\n",
       "      <td>227197</td>\n",
       "      <td>210969</td>\n",
       "      <td>194454</td>\n",
       "      <td>154370</td>\n",
       "      <td>115414</td>\n",
       "      <td>80624</td>\n",
       "      <td>59291</td>\n",
       "      <td>881912</td>\n",
       "      <td>267.4018</td>\n",
       "      <td>1.02</td>\n",
       "      <td>2.96%</td>\n",
       "      <td>5</td>\n",
       "    </tr>\n",
       "    <tr>\n",
       "      <th>5</th>\n",
       "      <td>NG</td>\n",
       "      <td>Nigeria</td>\n",
       "      <td>218541</td>\n",
       "      <td>208327</td>\n",
       "      <td>183996</td>\n",
       "      <td>160953</td>\n",
       "      <td>122852</td>\n",
       "      <td>95214</td>\n",
       "      <td>72951</td>\n",
       "      <td>55569</td>\n",
       "      <td>923768</td>\n",
       "      <td>236.5759</td>\n",
       "      <td>1.02</td>\n",
       "      <td>2.74%</td>\n",
       "      <td>6</td>\n",
       "    </tr>\n",
       "    <tr>\n",
       "      <th>6</th>\n",
       "      <td>BR</td>\n",
       "      <td>Brazil</td>\n",
       "      <td>215313</td>\n",
       "      <td>213196</td>\n",
       "      <td>205188</td>\n",
       "      <td>196353</td>\n",
       "      <td>175874</td>\n",
       "      <td>150706</td>\n",
       "      <td>122288</td>\n",
       "      <td>96370</td>\n",
       "      <td>8515767</td>\n",
       "      <td>25.2841</td>\n",
       "      <td>1.00</td>\n",
       "      <td>2.70%</td>\n",
       "      <td>7</td>\n",
       "    </tr>\n",
       "    <tr>\n",
       "      <th>7</th>\n",
       "      <td>BD</td>\n",
       "      <td>Bangladesh</td>\n",
       "      <td>171186</td>\n",
       "      <td>167421</td>\n",
       "      <td>157830</td>\n",
       "      <td>148391</td>\n",
       "      <td>129193</td>\n",
       "      <td>107148</td>\n",
       "      <td>83930</td>\n",
       "      <td>67542</td>\n",
       "      <td>147570</td>\n",
       "      <td>1160.0350</td>\n",
       "      <td>1.01</td>\n",
       "      <td>2.15%</td>\n",
       "      <td>8</td>\n",
       "    </tr>\n",
       "    <tr>\n",
       "      <th>8</th>\n",
       "      <td>RU</td>\n",
       "      <td>Russia</td>\n",
       "      <td>144713</td>\n",
       "      <td>145617</td>\n",
       "      <td>144668</td>\n",
       "      <td>143243</td>\n",
       "      <td>146845</td>\n",
       "      <td>148006</td>\n",
       "      <td>138257</td>\n",
       "      <td>130093</td>\n",
       "      <td>17098242</td>\n",
       "      <td>8.4636</td>\n",
       "      <td>1.00</td>\n",
       "      <td>1.81%</td>\n",
       "      <td>9</td>\n",
       "    </tr>\n",
       "    <tr>\n",
       "      <th>9</th>\n",
       "      <td>MX</td>\n",
       "      <td>Mexico</td>\n",
       "      <td>127504</td>\n",
       "      <td>125998</td>\n",
       "      <td>120150</td>\n",
       "      <td>112532</td>\n",
       "      <td>97873</td>\n",
       "      <td>81720</td>\n",
       "      <td>67705</td>\n",
       "      <td>50289</td>\n",
       "      <td>1964375</td>\n",
       "      <td>64.9082</td>\n",
       "      <td>1.01</td>\n",
       "      <td>1.60%</td>\n",
       "      <td>10</td>\n",
       "    </tr>\n",
       "    <tr>\n",
       "      <th>10</th>\n",
       "      <td>JP</td>\n",
       "      <td>Japan</td>\n",
       "      <td>123952</td>\n",
       "      <td>125245</td>\n",
       "      <td>127251</td>\n",
       "      <td>128105</td>\n",
       "      <td>126804</td>\n",
       "      <td>123686</td>\n",
       "      <td>117624</td>\n",
       "      <td>105417</td>\n",
       "      <td>377930</td>\n",
       "      <td>327.9753</td>\n",
       "      <td>0.99</td>\n",
       "      <td>1.55%</td>\n",
       "      <td>11</td>\n",
       "    </tr>\n",
       "    <tr>\n",
       "      <th>11</th>\n",
       "      <td>ET</td>\n",
       "      <td>Ethiopia</td>\n",
       "      <td>123380</td>\n",
       "      <td>117191</td>\n",
       "      <td>102472</td>\n",
       "      <td>89238</td>\n",
       "      <td>67032</td>\n",
       "      <td>47878</td>\n",
       "      <td>34945</td>\n",
       "      <td>28308</td>\n",
       "      <td>1104300</td>\n",
       "      <td>111.7268</td>\n",
       "      <td>1.03</td>\n",
       "      <td>1.55%</td>\n",
       "      <td>12</td>\n",
       "    </tr>\n",
       "    <tr>\n",
       "      <th>12</th>\n",
       "      <td>PH</td>\n",
       "      <td>Philippines</td>\n",
       "      <td>115559</td>\n",
       "      <td>112191</td>\n",
       "      <td>103031</td>\n",
       "      <td>94637</td>\n",
       "      <td>77958</td>\n",
       "      <td>61559</td>\n",
       "      <td>48420</td>\n",
       "      <td>37436</td>\n",
       "      <td>342353</td>\n",
       "      <td>337.5434</td>\n",
       "      <td>1.01</td>\n",
       "      <td>1.45%</td>\n",
       "      <td>13</td>\n",
       "    </tr>\n",
       "    <tr>\n",
       "      <th>13</th>\n",
       "      <td>EG</td>\n",
       "      <td>Egypt</td>\n",
       "      <td>110990</td>\n",
       "      <td>107465</td>\n",
       "      <td>97724</td>\n",
       "      <td>87252</td>\n",
       "      <td>71371</td>\n",
       "      <td>57215</td>\n",
       "      <td>43749</td>\n",
       "      <td>34782</td>\n",
       "      <td>1002450</td>\n",
       "      <td>110.7188</td>\n",
       "      <td>1.02</td>\n",
       "      <td>1.39%</td>\n",
       "      <td>14</td>\n",
       "    </tr>\n",
       "    <tr>\n",
       "      <th>14</th>\n",
       "      <td>CD</td>\n",
       "      <td>DR Congo</td>\n",
       "      <td>99010</td>\n",
       "      <td>92853</td>\n",
       "      <td>78657</td>\n",
       "      <td>66391</td>\n",
       "      <td>48616</td>\n",
       "      <td>35988</td>\n",
       "      <td>26709</td>\n",
       "      <td>20152</td>\n",
       "      <td>2344858</td>\n",
       "      <td>42.2244</td>\n",
       "      <td>1.03</td>\n",
       "      <td>1.24%</td>\n",
       "      <td>15</td>\n",
       "    </tr>\n",
       "    <tr>\n",
       "      <th>15</th>\n",
       "      <td>VN</td>\n",
       "      <td>Vietnam</td>\n",
       "      <td>98187</td>\n",
       "      <td>96649</td>\n",
       "      <td>92191</td>\n",
       "      <td>87411</td>\n",
       "      <td>79001</td>\n",
       "      <td>66913</td>\n",
       "      <td>52968</td>\n",
       "      <td>41929</td>\n",
       "      <td>331212</td>\n",
       "      <td>296.4472</td>\n",
       "      <td>1.01</td>\n",
       "      <td>1.23%</td>\n",
       "      <td>16</td>\n",
       "    </tr>\n",
       "    <tr>\n",
       "      <th>16</th>\n",
       "      <td>IR</td>\n",
       "      <td>Iran</td>\n",
       "      <td>88551</td>\n",
       "      <td>87290</td>\n",
       "      <td>81791</td>\n",
       "      <td>75374</td>\n",
       "      <td>65544</td>\n",
       "      <td>55794</td>\n",
       "      <td>38521</td>\n",
       "      <td>28450</td>\n",
       "      <td>1648195</td>\n",
       "      <td>53.7258</td>\n",
       "      <td>1.01</td>\n",
       "      <td>1.11%</td>\n",
       "      <td>17</td>\n",
       "    </tr>\n",
       "    <tr>\n",
       "      <th>17</th>\n",
       "      <td>TR</td>\n",
       "      <td>Turkey</td>\n",
       "      <td>85341</td>\n",
       "      <td>84135</td>\n",
       "      <td>79646</td>\n",
       "      <td>73195</td>\n",
       "      <td>64114</td>\n",
       "      <td>54324</td>\n",
       "      <td>44089</td>\n",
       "      <td>35541</td>\n",
       "      <td>783562</td>\n",
       "      <td>108.9145</td>\n",
       "      <td>1.01</td>\n",
       "      <td>1.07%</td>\n",
       "      <td>18</td>\n",
       "    </tr>\n",
       "    <tr>\n",
       "      <th>18</th>\n",
       "      <td>DE</td>\n",
       "      <td>Germany</td>\n",
       "      <td>83370</td>\n",
       "      <td>83329</td>\n",
       "      <td>82073</td>\n",
       "      <td>81325</td>\n",
       "      <td>81552</td>\n",
       "      <td>79370</td>\n",
       "      <td>77787</td>\n",
       "      <td>78295</td>\n",
       "      <td>357114</td>\n",
       "      <td>233.4544</td>\n",
       "      <td>1.00</td>\n",
       "      <td>1.05%</td>\n",
       "      <td>19</td>\n",
       "    </tr>\n",
       "    <tr>\n",
       "      <th>19</th>\n",
       "      <td>TH</td>\n",
       "      <td>Thailand</td>\n",
       "      <td>71697</td>\n",
       "      <td>71476</td>\n",
       "      <td>70294</td>\n",
       "      <td>68270</td>\n",
       "      <td>63067</td>\n",
       "      <td>55228</td>\n",
       "      <td>45738</td>\n",
       "      <td>35792</td>\n",
       "      <td>513120</td>\n",
       "      <td>139.7276</td>\n",
       "      <td>1.00</td>\n",
       "      <td>0.90%</td>\n",
       "      <td>20</td>\n",
       "    </tr>\n",
       "    <tr>\n",
       "      <th>20</th>\n",
       "      <td>GB</td>\n",
       "      <td>United Kingdom</td>\n",
       "      <td>67509</td>\n",
       "      <td>67059</td>\n",
       "      <td>65224</td>\n",
       "      <td>62760</td>\n",
       "      <td>58850</td>\n",
       "      <td>57210</td>\n",
       "      <td>56326</td>\n",
       "      <td>55650</td>\n",
       "      <td>242900</td>\n",
       "      <td>277.9289</td>\n",
       "      <td>1.00</td>\n",
       "      <td>0.85%</td>\n",
       "      <td>21</td>\n",
       "    </tr>\n",
       "    <tr>\n",
       "      <th>21</th>\n",
       "      <td>TZ</td>\n",
       "      <td>Tanzania</td>\n",
       "      <td>65498</td>\n",
       "      <td>61705</td>\n",
       "      <td>52543</td>\n",
       "      <td>45111</td>\n",
       "      <td>34464</td>\n",
       "      <td>26206</td>\n",
       "      <td>19298</td>\n",
       "      <td>13618</td>\n",
       "      <td>945087</td>\n",
       "      <td>69.3034</td>\n",
       "      <td>1.03</td>\n",
       "      <td>0.82%</td>\n",
       "      <td>22</td>\n",
       "    </tr>\n",
       "    <tr>\n",
       "      <th>22</th>\n",
       "      <td>FR</td>\n",
       "      <td>France</td>\n",
       "      <td>64627</td>\n",
       "      <td>64480</td>\n",
       "      <td>63810</td>\n",
       "      <td>62445</td>\n",
       "      <td>58665</td>\n",
       "      <td>56413</td>\n",
       "      <td>53714</td>\n",
       "      <td>50524</td>\n",
       "      <td>551695</td>\n",
       "      <td>117.1419</td>\n",
       "      <td>1.00</td>\n",
       "      <td>0.81%</td>\n",
       "      <td>23</td>\n",
       "    </tr>\n",
       "    <tr>\n",
       "      <th>23</th>\n",
       "      <td>ZA</td>\n",
       "      <td>South Africa</td>\n",
       "      <td>59894</td>\n",
       "      <td>58802</td>\n",
       "      <td>55877</td>\n",
       "      <td>51785</td>\n",
       "      <td>46813</td>\n",
       "      <td>39878</td>\n",
       "      <td>29464</td>\n",
       "      <td>22368</td>\n",
       "      <td>1221037</td>\n",
       "      <td>49.0517</td>\n",
       "      <td>1.01</td>\n",
       "      <td>0.75%</td>\n",
       "      <td>24</td>\n",
       "    </tr>\n",
       "    <tr>\n",
       "      <th>24</th>\n",
       "      <td>IT</td>\n",
       "      <td>Italy</td>\n",
       "      <td>59037</td>\n",
       "      <td>59501</td>\n",
       "      <td>60233</td>\n",
       "      <td>59822</td>\n",
       "      <td>56966</td>\n",
       "      <td>56757</td>\n",
       "      <td>56329</td>\n",
       "      <td>53324</td>\n",
       "      <td>301336</td>\n",
       "      <td>195.9191</td>\n",
       "      <td>1.00</td>\n",
       "      <td>0.74%</td>\n",
       "      <td>25</td>\n",
       "    </tr>\n",
       "    <tr>\n",
       "      <th>25</th>\n",
       "      <td>MM</td>\n",
       "      <td>Myanmar</td>\n",
       "      <td>54179</td>\n",
       "      <td>53423</td>\n",
       "      <td>51484</td>\n",
       "      <td>49391</td>\n",
       "      <td>45538</td>\n",
       "      <td>40100</td>\n",
       "      <td>33466</td>\n",
       "      <td>27284</td>\n",
       "      <td>676578</td>\n",
       "      <td>80.0784</td>\n",
       "      <td>1.01</td>\n",
       "      <td>0.68%</td>\n",
       "      <td>26</td>\n",
       "    </tr>\n",
       "    <tr>\n",
       "      <th>26</th>\n",
       "      <td>KE</td>\n",
       "      <td>Kenya</td>\n",
       "      <td>54027</td>\n",
       "      <td>51986</td>\n",
       "      <td>46851</td>\n",
       "      <td>41518</td>\n",
       "      <td>30852</td>\n",
       "      <td>23162</td>\n",
       "      <td>16187</td>\n",
       "      <td>11473</td>\n",
       "      <td>580367</td>\n",
       "      <td>93.0919</td>\n",
       "      <td>1.02</td>\n",
       "      <td>0.68%</td>\n",
       "      <td>27</td>\n",
       "    </tr>\n",
       "    <tr>\n",
       "      <th>27</th>\n",
       "      <td>CO</td>\n",
       "      <td>Colombia</td>\n",
       "      <td>51874</td>\n",
       "      <td>50931</td>\n",
       "      <td>47120</td>\n",
       "      <td>44816</td>\n",
       "      <td>39215</td>\n",
       "      <td>32601</td>\n",
       "      <td>26176</td>\n",
       "      <td>20905</td>\n",
       "      <td>1141748</td>\n",
       "      <td>45.4339</td>\n",
       "      <td>1.01</td>\n",
       "      <td>0.65%</td>\n",
       "      <td>28</td>\n",
       "    </tr>\n",
       "    <tr>\n",
       "      <th>28</th>\n",
       "      <td>KR</td>\n",
       "      <td>South Korea</td>\n",
       "      <td>51816</td>\n",
       "      <td>51845</td>\n",
       "      <td>50994</td>\n",
       "      <td>48813</td>\n",
       "      <td>46789</td>\n",
       "      <td>44120</td>\n",
       "      <td>38171</td>\n",
       "      <td>32601</td>\n",
       "      <td>100210</td>\n",
       "      <td>517.0722</td>\n",
       "      <td>1.00</td>\n",
       "      <td>0.65%</td>\n",
       "      <td>29</td>\n",
       "    </tr>\n",
       "    <tr>\n",
       "      <th>29</th>\n",
       "      <td>ES</td>\n",
       "      <td>Spain</td>\n",
       "      <td>47559</td>\n",
       "      <td>47364</td>\n",
       "      <td>46431</td>\n",
       "      <td>46573</td>\n",
       "      <td>40742</td>\n",
       "      <td>38890</td>\n",
       "      <td>37492</td>\n",
       "      <td>33793</td>\n",
       "      <td>505992</td>\n",
       "      <td>93.9909</td>\n",
       "      <td>1.00</td>\n",
       "      <td>0.60%</td>\n",
       "      <td>30</td>\n",
       "    </tr>\n",
       "  </tbody>\n",
       "</table>\n",
       "</div>"
      ],
      "text/plain": [
       "   CCA3            Name     2022     2020     2015     2010     2000     1990  \\\n",
       "0    CN           China  1425887  1424930  1393715  1348191  1264099  1153704   \n",
       "1    IN           India  1417173  1396387  1322867  1240614  1059634   870452   \n",
       "2    US   United States   338290   335942   324608   311183   282399   248084   \n",
       "3    ID       Indonesia   275501   271858   259092   244016   214072   182160   \n",
       "4    PK        Pakistan   235825   227197   210969   194454   154370   115414   \n",
       "5    NG         Nigeria   218541   208327   183996   160953   122852    95214   \n",
       "6    BR          Brazil   215313   213196   205188   196353   175874   150706   \n",
       "7    BD      Bangladesh   171186   167421   157830   148391   129193   107148   \n",
       "8    RU          Russia   144713   145617   144668   143243   146845   148006   \n",
       "9    MX          Mexico   127504   125998   120150   112532    97873    81720   \n",
       "10   JP           Japan   123952   125245   127251   128105   126804   123686   \n",
       "11   ET        Ethiopia   123380   117191   102472    89238    67032    47878   \n",
       "12   PH     Philippines   115559   112191   103031    94637    77958    61559   \n",
       "13   EG           Egypt   110990   107465    97724    87252    71371    57215   \n",
       "14   CD        DR Congo    99010    92853    78657    66391    48616    35988   \n",
       "15   VN         Vietnam    98187    96649    92191    87411    79001    66913   \n",
       "16   IR            Iran    88551    87290    81791    75374    65544    55794   \n",
       "17   TR          Turkey    85341    84135    79646    73195    64114    54324   \n",
       "18   DE         Germany    83370    83329    82073    81325    81552    79370   \n",
       "19   TH        Thailand    71697    71476    70294    68270    63067    55228   \n",
       "20   GB  United Kingdom    67509    67059    65224    62760    58850    57210   \n",
       "21   TZ        Tanzania    65498    61705    52543    45111    34464    26206   \n",
       "22   FR          France    64627    64480    63810    62445    58665    56413   \n",
       "23   ZA    South Africa    59894    58802    55877    51785    46813    39878   \n",
       "24   IT           Italy    59037    59501    60233    59822    56966    56757   \n",
       "25   MM         Myanmar    54179    53423    51484    49391    45538    40100   \n",
       "26   KE           Kenya    54027    51986    46851    41518    30852    23162   \n",
       "27   CO        Colombia    51874    50931    47120    44816    39215    32601   \n",
       "28   KR     South Korea    51816    51845    50994    48813    46789    44120   \n",
       "29   ES           Spain    47559    47364    46431    46573    40742    38890   \n",
       "\n",
       "      1980    1970  Area (km²)  Density (per km²)  GrowthRate  \\\n",
       "0   982372  822534     9706961           146.8933        1.00   \n",
       "1   696828  557501     3287590           431.0675        1.01   \n",
       "2   223140  200328     9372610            36.0935        1.00   \n",
       "3   148177  115228     1904569           144.6529        1.01   \n",
       "4    80624   59291      881912           267.4018        1.02   \n",
       "5    72951   55569      923768           236.5759        1.02   \n",
       "6   122288   96370     8515767            25.2841        1.00   \n",
       "7    83930   67542      147570          1160.0350        1.01   \n",
       "8   138257  130093    17098242             8.4636        1.00   \n",
       "9    67705   50289     1964375            64.9082        1.01   \n",
       "10  117624  105417      377930           327.9753        0.99   \n",
       "11   34945   28308     1104300           111.7268        1.03   \n",
       "12   48420   37436      342353           337.5434        1.01   \n",
       "13   43749   34782     1002450           110.7188        1.02   \n",
       "14   26709   20152     2344858            42.2244        1.03   \n",
       "15   52968   41929      331212           296.4472        1.01   \n",
       "16   38521   28450     1648195            53.7258        1.01   \n",
       "17   44089   35541      783562           108.9145        1.01   \n",
       "18   77787   78295      357114           233.4544        1.00   \n",
       "19   45738   35792      513120           139.7276        1.00   \n",
       "20   56326   55650      242900           277.9289        1.00   \n",
       "21   19298   13618      945087            69.3034        1.03   \n",
       "22   53714   50524      551695           117.1419        1.00   \n",
       "23   29464   22368     1221037            49.0517        1.01   \n",
       "24   56329   53324      301336           195.9191        1.00   \n",
       "25   33466   27284      676578            80.0784        1.01   \n",
       "26   16187   11473      580367            93.0919        1.02   \n",
       "27   26176   20905     1141748            45.4339        1.01   \n",
       "28   38171   32601      100210           517.0722        1.00   \n",
       "29   37492   33793      505992            93.9909        1.00   \n",
       "\n",
       "   World Population Percentage  Rank  \n",
       "0                       17.88%     1  \n",
       "1                       17.77%     2  \n",
       "2                        4.24%     3  \n",
       "3                        3.45%     4  \n",
       "4                        2.96%     5  \n",
       "5                        2.74%     6  \n",
       "6                        2.70%     7  \n",
       "7                        2.15%     8  \n",
       "8                        1.81%     9  \n",
       "9                        1.60%    10  \n",
       "10                       1.55%    11  \n",
       "11                       1.55%    12  \n",
       "12                       1.45%    13  \n",
       "13                       1.39%    14  \n",
       "14                       1.24%    15  \n",
       "15                       1.23%    16  \n",
       "16                       1.11%    17  \n",
       "17                       1.07%    18  \n",
       "18                       1.05%    19  \n",
       "19                       0.90%    20  \n",
       "20                       0.85%    21  \n",
       "21                       0.82%    22  \n",
       "22                       0.81%    23  \n",
       "23                       0.75%    24  \n",
       "24                       0.74%    25  \n",
       "25                       0.68%    26  \n",
       "26                       0.68%    27  \n",
       "27                       0.65%    28  \n",
       "28                       0.65%    29  \n",
       "29                       0.60%    30  "
      ]
     },
     "execution_count": 30,
     "metadata": {},
     "output_type": "execute_result"
    }
   ],
   "source": [
    "import pandas as pd\n",
    "import plotly.graph_objs as go\n",
    "read = pd.read_csv('World Population Live Dataset.csv')\n",
    "\n",
    "data = pd.DataFrame(read)\n",
    "for i in range(30, 234):\n",
    "    data.drop(labels=[i], axis=0,inplace=True)\n",
    "data"
   ]
  },
  {
   "cell_type": "code",
   "execution_count": 31,
   "metadata": {
    "pycharm": {
     "name": "#%%\n"
    }
   },
   "outputs": [
    {
     "name": "stdout",
     "output_type": "stream",
     "text": [
      "<class 'pandas.core.frame.DataFrame'>\n",
      "Int64Index: 30 entries, 0 to 29\n",
      "Data columns (total 15 columns):\n",
      " #   Column                       Non-Null Count  Dtype  \n",
      "---  ------                       --------------  -----  \n",
      " 0   CCA3                         30 non-null     object \n",
      " 1   Name                         30 non-null     object \n",
      " 2   2022                         30 non-null     int64  \n",
      " 3   2020                         30 non-null     int64  \n",
      " 4   2015                         30 non-null     int64  \n",
      " 5   2010                         30 non-null     int64  \n",
      " 6   2000                         30 non-null     int64  \n",
      " 7   1990                         30 non-null     int64  \n",
      " 8   1980                         30 non-null     int64  \n",
      " 9   1970                         30 non-null     int64  \n",
      " 10  Area (km²)                   30 non-null     int64  \n",
      " 11  Density (per km²)            30 non-null     float64\n",
      " 12  GrowthRate                   30 non-null     float64\n",
      " 13  World Population Percentage  30 non-null     object \n",
      " 14  Rank                         30 non-null     int64  \n",
      "dtypes: float64(2), int64(10), object(3)\n",
      "memory usage: 3.8+ KB\n"
     ]
    },
    {
     "data": {
      "text/html": [
       "<div>\n",
       "<style scoped>\n",
       "    .dataframe tbody tr th:only-of-type {\n",
       "        vertical-align: middle;\n",
       "    }\n",
       "\n",
       "    .dataframe tbody tr th {\n",
       "        vertical-align: top;\n",
       "    }\n",
       "\n",
       "    .dataframe thead th {\n",
       "        text-align: right;\n",
       "    }\n",
       "</style>\n",
       "<table border=\"1\" class=\"dataframe\">\n",
       "  <thead>\n",
       "    <tr style=\"text-align: right;\">\n",
       "      <th></th>\n",
       "      <th>CCA3</th>\n",
       "      <th>Name</th>\n",
       "      <th>2022</th>\n",
       "      <th>2020</th>\n",
       "      <th>2015</th>\n",
       "      <th>2010</th>\n",
       "      <th>2000</th>\n",
       "      <th>1990</th>\n",
       "      <th>1980</th>\n",
       "      <th>1970</th>\n",
       "      <th>Area (km²)</th>\n",
       "      <th>Density (per km²)</th>\n",
       "      <th>GrowthRate</th>\n",
       "      <th>World Population Percentage</th>\n",
       "      <th>Rank</th>\n",
       "    </tr>\n",
       "  </thead>\n",
       "  <tbody>\n",
       "    <tr>\n",
       "      <th>0</th>\n",
       "      <td>CN</td>\n",
       "      <td>China</td>\n",
       "      <td>1425887</td>\n",
       "      <td>1424930</td>\n",
       "      <td>1393715</td>\n",
       "      <td>1348191</td>\n",
       "      <td>1264099</td>\n",
       "      <td>1153704</td>\n",
       "      <td>982372</td>\n",
       "      <td>822534</td>\n",
       "      <td>9706961</td>\n",
       "      <td>146.8933</td>\n",
       "      <td>1.00</td>\n",
       "      <td>17.88%</td>\n",
       "      <td>1</td>\n",
       "    </tr>\n",
       "    <tr>\n",
       "      <th>1</th>\n",
       "      <td>IN</td>\n",
       "      <td>India</td>\n",
       "      <td>1417173</td>\n",
       "      <td>1396387</td>\n",
       "      <td>1322867</td>\n",
       "      <td>1240614</td>\n",
       "      <td>1059634</td>\n",
       "      <td>870452</td>\n",
       "      <td>696828</td>\n",
       "      <td>557501</td>\n",
       "      <td>3287590</td>\n",
       "      <td>431.0675</td>\n",
       "      <td>1.01</td>\n",
       "      <td>17.77%</td>\n",
       "      <td>2</td>\n",
       "    </tr>\n",
       "    <tr>\n",
       "      <th>2</th>\n",
       "      <td>US</td>\n",
       "      <td>United States</td>\n",
       "      <td>338290</td>\n",
       "      <td>335942</td>\n",
       "      <td>324608</td>\n",
       "      <td>311183</td>\n",
       "      <td>282399</td>\n",
       "      <td>248084</td>\n",
       "      <td>223140</td>\n",
       "      <td>200328</td>\n",
       "      <td>9372610</td>\n",
       "      <td>36.0935</td>\n",
       "      <td>1.00</td>\n",
       "      <td>4.24%</td>\n",
       "      <td>3</td>\n",
       "    </tr>\n",
       "    <tr>\n",
       "      <th>3</th>\n",
       "      <td>ID</td>\n",
       "      <td>Indonesia</td>\n",
       "      <td>275501</td>\n",
       "      <td>271858</td>\n",
       "      <td>259092</td>\n",
       "      <td>244016</td>\n",
       "      <td>214072</td>\n",
       "      <td>182160</td>\n",
       "      <td>148177</td>\n",
       "      <td>115228</td>\n",
       "      <td>1904569</td>\n",
       "      <td>144.6529</td>\n",
       "      <td>1.01</td>\n",
       "      <td>3.45%</td>\n",
       "      <td>4</td>\n",
       "    </tr>\n",
       "    <tr>\n",
       "      <th>4</th>\n",
       "      <td>PK</td>\n",
       "      <td>Pakistan</td>\n",
       "      <td>235825</td>\n",
       "      <td>227197</td>\n",
       "      <td>210969</td>\n",
       "      <td>194454</td>\n",
       "      <td>154370</td>\n",
       "      <td>115414</td>\n",
       "      <td>80624</td>\n",
       "      <td>59291</td>\n",
       "      <td>881912</td>\n",
       "      <td>267.4018</td>\n",
       "      <td>1.02</td>\n",
       "      <td>2.96%</td>\n",
       "      <td>5</td>\n",
       "    </tr>\n",
       "  </tbody>\n",
       "</table>\n",
       "</div>"
      ],
      "text/plain": [
       "  CCA3           Name     2022     2020     2015     2010     2000     1990  \\\n",
       "0   CN          China  1425887  1424930  1393715  1348191  1264099  1153704   \n",
       "1   IN          India  1417173  1396387  1322867  1240614  1059634   870452   \n",
       "2   US  United States   338290   335942   324608   311183   282399   248084   \n",
       "3   ID      Indonesia   275501   271858   259092   244016   214072   182160   \n",
       "4   PK       Pakistan   235825   227197   210969   194454   154370   115414   \n",
       "\n",
       "     1980    1970  Area (km²)  Density (per km²)  GrowthRate  \\\n",
       "0  982372  822534     9706961           146.8933        1.00   \n",
       "1  696828  557501     3287590           431.0675        1.01   \n",
       "2  223140  200328     9372610            36.0935        1.00   \n",
       "3  148177  115228     1904569           144.6529        1.01   \n",
       "4   80624   59291      881912           267.4018        1.02   \n",
       "\n",
       "  World Population Percentage  Rank  \n",
       "0                      17.88%     1  \n",
       "1                      17.77%     2  \n",
       "2                       4.24%     3  \n",
       "3                       3.45%     4  \n",
       "4                       2.96%     5  "
      ]
     },
     "execution_count": 31,
     "metadata": {},
     "output_type": "execute_result"
    }
   ],
   "source": [
    "data.info()\n",
    "data.head()"
   ]
  },
  {
   "cell_type": "code",
   "execution_count": 35,
   "metadata": {
    "pycharm": {
     "name": "#%%\n"
    }
   },
   "outputs": [
    {
     "data": {
      "application/vnd.plotly.v1+json": {
       "config": {
        "plotlyServerURL": "https://plot.ly"
       },
       "data": [
        {
         "marker": {
          "color": [
           1425887,
           1417173,
           338290,
           275501,
           235825,
           218541,
           215313,
           171186,
           144713,
           127504,
           123952,
           123380,
           115559,
           110990,
           99010,
           98187,
           88551,
           85341,
           83370,
           71697,
           67509,
           65498,
           64627,
           59894,
           59037,
           54179,
           54027,
           51874,
           51816,
           47559
          ],
          "coloraxis": "coloraxis",
          "line": {
           "color": "rgb(0,0,0)",
           "width": 2
          }
         },
         "type": "bar",
         "x": [
          "CN",
          "IN",
          "US",
          "ID",
          "PK",
          "NG",
          "BR",
          "BD",
          "RU",
          "MX",
          "JP",
          "ET",
          "PH",
          "EG",
          "CD",
          "VN",
          "IR",
          "TR",
          "DE",
          "TH",
          "GB",
          "TZ",
          "FR",
          "ZA",
          "IT",
          "MM",
          "KE",
          "CO",
          "KR",
          "ES"
         ],
         "y": [
          1425887,
          1417173,
          338290,
          275501,
          235825,
          218541,
          215313,
          171186,
          144713,
          127504,
          123952,
          123380,
          115559,
          110990,
          99010,
          98187,
          88551,
          85341,
          83370,
          71697,
          67509,
          65498,
          64627,
          59894,
          59037,
          54179,
          54027,
          51874,
          51816,
          47559
         ]
        }
       ],
       "layout": {
        "legend": {
         "title": {
          "text": "Contestant"
         }
        },
        "template": {
         "data": {
          "bar": [
           {
            "error_x": {
             "color": "#f2f5fa"
            },
            "error_y": {
             "color": "#f2f5fa"
            },
            "marker": {
             "line": {
              "color": "rgb(17,17,17)",
              "width": 0.5
             },
             "pattern": {
              "fillmode": "overlay",
              "size": 10,
              "solidity": 0.2
             }
            },
            "type": "bar"
           }
          ],
          "barpolar": [
           {
            "marker": {
             "line": {
              "color": "rgb(17,17,17)",
              "width": 0.5
             },
             "pattern": {
              "fillmode": "overlay",
              "size": 10,
              "solidity": 0.2
             }
            },
            "type": "barpolar"
           }
          ],
          "carpet": [
           {
            "aaxis": {
             "endlinecolor": "#A2B1C6",
             "gridcolor": "#506784",
             "linecolor": "#506784",
             "minorgridcolor": "#506784",
             "startlinecolor": "#A2B1C6"
            },
            "baxis": {
             "endlinecolor": "#A2B1C6",
             "gridcolor": "#506784",
             "linecolor": "#506784",
             "minorgridcolor": "#506784",
             "startlinecolor": "#A2B1C6"
            },
            "type": "carpet"
           }
          ],
          "choropleth": [
           {
            "colorbar": {
             "outlinewidth": 0,
             "ticks": ""
            },
            "type": "choropleth"
           }
          ],
          "contour": [
           {
            "colorbar": {
             "outlinewidth": 0,
             "ticks": ""
            },
            "colorscale": [
             [
              0,
              "#0d0887"
             ],
             [
              0.1111111111111111,
              "#46039f"
             ],
             [
              0.2222222222222222,
              "#7201a8"
             ],
             [
              0.3333333333333333,
              "#9c179e"
             ],
             [
              0.4444444444444444,
              "#bd3786"
             ],
             [
              0.5555555555555556,
              "#d8576b"
             ],
             [
              0.6666666666666666,
              "#ed7953"
             ],
             [
              0.7777777777777778,
              "#fb9f3a"
             ],
             [
              0.8888888888888888,
              "#fdca26"
             ],
             [
              1,
              "#f0f921"
             ]
            ],
            "type": "contour"
           }
          ],
          "contourcarpet": [
           {
            "colorbar": {
             "outlinewidth": 0,
             "ticks": ""
            },
            "type": "contourcarpet"
           }
          ],
          "heatmap": [
           {
            "colorbar": {
             "outlinewidth": 0,
             "ticks": ""
            },
            "colorscale": [
             [
              0,
              "#0d0887"
             ],
             [
              0.1111111111111111,
              "#46039f"
             ],
             [
              0.2222222222222222,
              "#7201a8"
             ],
             [
              0.3333333333333333,
              "#9c179e"
             ],
             [
              0.4444444444444444,
              "#bd3786"
             ],
             [
              0.5555555555555556,
              "#d8576b"
             ],
             [
              0.6666666666666666,
              "#ed7953"
             ],
             [
              0.7777777777777778,
              "#fb9f3a"
             ],
             [
              0.8888888888888888,
              "#fdca26"
             ],
             [
              1,
              "#f0f921"
             ]
            ],
            "type": "heatmap"
           }
          ],
          "heatmapgl": [
           {
            "colorbar": {
             "outlinewidth": 0,
             "ticks": ""
            },
            "colorscale": [
             [
              0,
              "#0d0887"
             ],
             [
              0.1111111111111111,
              "#46039f"
             ],
             [
              0.2222222222222222,
              "#7201a8"
             ],
             [
              0.3333333333333333,
              "#9c179e"
             ],
             [
              0.4444444444444444,
              "#bd3786"
             ],
             [
              0.5555555555555556,
              "#d8576b"
             ],
             [
              0.6666666666666666,
              "#ed7953"
             ],
             [
              0.7777777777777778,
              "#fb9f3a"
             ],
             [
              0.8888888888888888,
              "#fdca26"
             ],
             [
              1,
              "#f0f921"
             ]
            ],
            "type": "heatmapgl"
           }
          ],
          "histogram": [
           {
            "marker": {
             "pattern": {
              "fillmode": "overlay",
              "size": 10,
              "solidity": 0.2
             }
            },
            "type": "histogram"
           }
          ],
          "histogram2d": [
           {
            "colorbar": {
             "outlinewidth": 0,
             "ticks": ""
            },
            "colorscale": [
             [
              0,
              "#0d0887"
             ],
             [
              0.1111111111111111,
              "#46039f"
             ],
             [
              0.2222222222222222,
              "#7201a8"
             ],
             [
              0.3333333333333333,
              "#9c179e"
             ],
             [
              0.4444444444444444,
              "#bd3786"
             ],
             [
              0.5555555555555556,
              "#d8576b"
             ],
             [
              0.6666666666666666,
              "#ed7953"
             ],
             [
              0.7777777777777778,
              "#fb9f3a"
             ],
             [
              0.8888888888888888,
              "#fdca26"
             ],
             [
              1,
              "#f0f921"
             ]
            ],
            "type": "histogram2d"
           }
          ],
          "histogram2dcontour": [
           {
            "colorbar": {
             "outlinewidth": 0,
             "ticks": ""
            },
            "colorscale": [
             [
              0,
              "#0d0887"
             ],
             [
              0.1111111111111111,
              "#46039f"
             ],
             [
              0.2222222222222222,
              "#7201a8"
             ],
             [
              0.3333333333333333,
              "#9c179e"
             ],
             [
              0.4444444444444444,
              "#bd3786"
             ],
             [
              0.5555555555555556,
              "#d8576b"
             ],
             [
              0.6666666666666666,
              "#ed7953"
             ],
             [
              0.7777777777777778,
              "#fb9f3a"
             ],
             [
              0.8888888888888888,
              "#fdca26"
             ],
             [
              1,
              "#f0f921"
             ]
            ],
            "type": "histogram2dcontour"
           }
          ],
          "mesh3d": [
           {
            "colorbar": {
             "outlinewidth": 0,
             "ticks": ""
            },
            "type": "mesh3d"
           }
          ],
          "parcoords": [
           {
            "line": {
             "colorbar": {
              "outlinewidth": 0,
              "ticks": ""
             }
            },
            "type": "parcoords"
           }
          ],
          "pie": [
           {
            "automargin": true,
            "type": "pie"
           }
          ],
          "scatter": [
           {
            "marker": {
             "line": {
              "color": "#283442"
             }
            },
            "type": "scatter"
           }
          ],
          "scatter3d": [
           {
            "line": {
             "colorbar": {
              "outlinewidth": 0,
              "ticks": ""
             }
            },
            "marker": {
             "colorbar": {
              "outlinewidth": 0,
              "ticks": ""
             }
            },
            "type": "scatter3d"
           }
          ],
          "scattercarpet": [
           {
            "marker": {
             "colorbar": {
              "outlinewidth": 0,
              "ticks": ""
             }
            },
            "type": "scattercarpet"
           }
          ],
          "scattergeo": [
           {
            "marker": {
             "colorbar": {
              "outlinewidth": 0,
              "ticks": ""
             }
            },
            "type": "scattergeo"
           }
          ],
          "scattergl": [
           {
            "marker": {
             "line": {
              "color": "#283442"
             }
            },
            "type": "scattergl"
           }
          ],
          "scattermapbox": [
           {
            "marker": {
             "colorbar": {
              "outlinewidth": 0,
              "ticks": ""
             }
            },
            "type": "scattermapbox"
           }
          ],
          "scatterpolar": [
           {
            "marker": {
             "colorbar": {
              "outlinewidth": 0,
              "ticks": ""
             }
            },
            "type": "scatterpolar"
           }
          ],
          "scatterpolargl": [
           {
            "marker": {
             "colorbar": {
              "outlinewidth": 0,
              "ticks": ""
             }
            },
            "type": "scatterpolargl"
           }
          ],
          "scatterternary": [
           {
            "marker": {
             "colorbar": {
              "outlinewidth": 0,
              "ticks": ""
             }
            },
            "type": "scatterternary"
           }
          ],
          "surface": [
           {
            "colorbar": {
             "outlinewidth": 0,
             "ticks": ""
            },
            "colorscale": [
             [
              0,
              "#0d0887"
             ],
             [
              0.1111111111111111,
              "#46039f"
             ],
             [
              0.2222222222222222,
              "#7201a8"
             ],
             [
              0.3333333333333333,
              "#9c179e"
             ],
             [
              0.4444444444444444,
              "#bd3786"
             ],
             [
              0.5555555555555556,
              "#d8576b"
             ],
             [
              0.6666666666666666,
              "#ed7953"
             ],
             [
              0.7777777777777778,
              "#fb9f3a"
             ],
             [
              0.8888888888888888,
              "#fdca26"
             ],
             [
              1,
              "#f0f921"
             ]
            ],
            "type": "surface"
           }
          ],
          "table": [
           {
            "cells": {
             "fill": {
              "color": "#506784"
             },
             "line": {
              "color": "rgb(17,17,17)"
             }
            },
            "header": {
             "fill": {
              "color": "#2a3f5f"
             },
             "line": {
              "color": "rgb(17,17,17)"
             }
            },
            "type": "table"
           }
          ]
         },
         "layout": {
          "annotationdefaults": {
           "arrowcolor": "#f2f5fa",
           "arrowhead": 0,
           "arrowwidth": 1
          },
          "autotypenumbers": "strict",
          "coloraxis": {
           "colorbar": {
            "outlinewidth": 0,
            "ticks": ""
           }
          },
          "colorscale": {
           "diverging": [
            [
             0,
             "#8e0152"
            ],
            [
             0.1,
             "#c51b7d"
            ],
            [
             0.2,
             "#de77ae"
            ],
            [
             0.3,
             "#f1b6da"
            ],
            [
             0.4,
             "#fde0ef"
            ],
            [
             0.5,
             "#f7f7f7"
            ],
            [
             0.6,
             "#e6f5d0"
            ],
            [
             0.7,
             "#b8e186"
            ],
            [
             0.8,
             "#7fbc41"
            ],
            [
             0.9,
             "#4d9221"
            ],
            [
             1,
             "#276419"
            ]
           ],
           "sequential": [
            [
             0,
             "#0d0887"
            ],
            [
             0.1111111111111111,
             "#46039f"
            ],
            [
             0.2222222222222222,
             "#7201a8"
            ],
            [
             0.3333333333333333,
             "#9c179e"
            ],
            [
             0.4444444444444444,
             "#bd3786"
            ],
            [
             0.5555555555555556,
             "#d8576b"
            ],
            [
             0.6666666666666666,
             "#ed7953"
            ],
            [
             0.7777777777777778,
             "#fb9f3a"
            ],
            [
             0.8888888888888888,
             "#fdca26"
            ],
            [
             1,
             "#f0f921"
            ]
           ],
           "sequentialminus": [
            [
             0,
             "#0d0887"
            ],
            [
             0.1111111111111111,
             "#46039f"
            ],
            [
             0.2222222222222222,
             "#7201a8"
            ],
            [
             0.3333333333333333,
             "#9c179e"
            ],
            [
             0.4444444444444444,
             "#bd3786"
            ],
            [
             0.5555555555555556,
             "#d8576b"
            ],
            [
             0.6666666666666666,
             "#ed7953"
            ],
            [
             0.7777777777777778,
             "#fb9f3a"
            ],
            [
             0.8888888888888888,
             "#fdca26"
            ],
            [
             1,
             "#f0f921"
            ]
           ]
          },
          "colorway": [
           "#636efa",
           "#EF553B",
           "#00cc96",
           "#ab63fa",
           "#FFA15A",
           "#19d3f3",
           "#FF6692",
           "#B6E880",
           "#FF97FF",
           "#FECB52"
          ],
          "font": {
           "color": "#f2f5fa"
          },
          "geo": {
           "bgcolor": "rgb(17,17,17)",
           "lakecolor": "rgb(17,17,17)",
           "landcolor": "rgb(17,17,17)",
           "showlakes": true,
           "showland": true,
           "subunitcolor": "#506784"
          },
          "hoverlabel": {
           "align": "left"
          },
          "hovermode": "closest",
          "mapbox": {
           "style": "dark"
          },
          "paper_bgcolor": "rgb(17,17,17)",
          "plot_bgcolor": "rgb(17,17,17)",
          "polar": {
           "angularaxis": {
            "gridcolor": "#506784",
            "linecolor": "#506784",
            "ticks": ""
           },
           "bgcolor": "rgb(17,17,17)",
           "radialaxis": {
            "gridcolor": "#506784",
            "linecolor": "#506784",
            "ticks": ""
           }
          },
          "scene": {
           "xaxis": {
            "backgroundcolor": "rgb(17,17,17)",
            "gridcolor": "#506784",
            "gridwidth": 2,
            "linecolor": "#506784",
            "showbackground": true,
            "ticks": "",
            "zerolinecolor": "#C8D4E3"
           },
           "yaxis": {
            "backgroundcolor": "rgb(17,17,17)",
            "gridcolor": "#506784",
            "gridwidth": 2,
            "linecolor": "#506784",
            "showbackground": true,
            "ticks": "",
            "zerolinecolor": "#C8D4E3"
           },
           "zaxis": {
            "backgroundcolor": "rgb(17,17,17)",
            "gridcolor": "#506784",
            "gridwidth": 2,
            "linecolor": "#506784",
            "showbackground": true,
            "ticks": "",
            "zerolinecolor": "#C8D4E3"
           }
          },
          "shapedefaults": {
           "line": {
            "color": "#f2f5fa"
           }
          },
          "sliderdefaults": {
           "bgcolor": "#C8D4E3",
           "bordercolor": "rgb(17,17,17)",
           "borderwidth": 1,
           "tickwidth": 0
          },
          "ternary": {
           "aaxis": {
            "gridcolor": "#506784",
            "linecolor": "#506784",
            "ticks": ""
           },
           "baxis": {
            "gridcolor": "#506784",
            "linecolor": "#506784",
            "ticks": ""
           },
           "bgcolor": "rgb(17,17,17)",
           "caxis": {
            "gridcolor": "#506784",
            "linecolor": "#506784",
            "ticks": ""
           }
          },
          "title": {
           "x": 0.05
          },
          "updatemenudefaults": {
           "bgcolor": "#506784",
           "borderwidth": 0
          },
          "xaxis": {
           "automargin": true,
           "gridcolor": "#283442",
           "linecolor": "#506784",
           "ticks": "",
           "title": {
            "standoff": 15
           },
           "zerolinecolor": "#283442",
           "zerolinewidth": 2
          },
          "yaxis": {
           "automargin": true,
           "gridcolor": "#283442",
           "linecolor": "#506784",
           "ticks": "",
           "title": {
            "standoff": 15
           },
           "zerolinecolor": "#283442",
           "zerolinewidth": 2
          }
         }
        },
        "title": {
         "font": {
          "size": 20
         },
         "text": "Население стран",
         "xanchor": "center"
        },
        "xaxis": {
         "title": {
          "text": "Countries"
         }
        },
        "yaxis": {
         "title": {
          "text": "Population"
         }
        }
       }
      },
      "text/html": [
       "<div>                            <div id=\"ff7a7c9d-0da4-4432-9221-04ba2c03afc4\" class=\"plotly-graph-div\" style=\"height:525px; width:100%;\"></div>            <script type=\"text/javascript\">                require([\"plotly\"], function(Plotly) {                    window.PLOTLYENV=window.PLOTLYENV || {};                                    if (document.getElementById(\"ff7a7c9d-0da4-4432-9221-04ba2c03afc4\")) {                    Plotly.newPlot(                        \"ff7a7c9d-0da4-4432-9221-04ba2c03afc4\",                        [{\"marker\":{\"color\":[1425887,1417173,338290,275501,235825,218541,215313,171186,144713,127504,123952,123380,115559,110990,99010,98187,88551,85341,83370,71697,67509,65498,64627,59894,59037,54179,54027,51874,51816,47559],\"coloraxis\":\"coloraxis\",\"line\":{\"color\":\"rgb(0,0,0)\",\"width\":2}},\"x\":[\"CN\",\"IN\",\"US\",\"ID\",\"PK\",\"NG\",\"BR\",\"BD\",\"RU\",\"MX\",\"JP\",\"ET\",\"PH\",\"EG\",\"CD\",\"VN\",\"IR\",\"TR\",\"DE\",\"TH\",\"GB\",\"TZ\",\"FR\",\"ZA\",\"IT\",\"MM\",\"KE\",\"CO\",\"KR\",\"ES\"],\"y\":[1425887,1417173,338290,275501,235825,218541,215313,171186,144713,127504,123952,123380,115559,110990,99010,98187,88551,85341,83370,71697,67509,65498,64627,59894,59037,54179,54027,51874,51816,47559],\"type\":\"bar\"}],                        {\"template\":{\"data\":{\"histogram2dcontour\":[{\"type\":\"histogram2dcontour\",\"colorbar\":{\"outlinewidth\":0,\"ticks\":\"\"},\"colorscale\":[[0.0,\"#0d0887\"],[0.1111111111111111,\"#46039f\"],[0.2222222222222222,\"#7201a8\"],[0.3333333333333333,\"#9c179e\"],[0.4444444444444444,\"#bd3786\"],[0.5555555555555556,\"#d8576b\"],[0.6666666666666666,\"#ed7953\"],[0.7777777777777778,\"#fb9f3a\"],[0.8888888888888888,\"#fdca26\"],[1.0,\"#f0f921\"]]}],\"choropleth\":[{\"type\":\"choropleth\",\"colorbar\":{\"outlinewidth\":0,\"ticks\":\"\"}}],\"histogram2d\":[{\"type\":\"histogram2d\",\"colorbar\":{\"outlinewidth\":0,\"ticks\":\"\"},\"colorscale\":[[0.0,\"#0d0887\"],[0.1111111111111111,\"#46039f\"],[0.2222222222222222,\"#7201a8\"],[0.3333333333333333,\"#9c179e\"],[0.4444444444444444,\"#bd3786\"],[0.5555555555555556,\"#d8576b\"],[0.6666666666666666,\"#ed7953\"],[0.7777777777777778,\"#fb9f3a\"],[0.8888888888888888,\"#fdca26\"],[1.0,\"#f0f921\"]]}],\"heatmap\":[{\"type\":\"heatmap\",\"colorbar\":{\"outlinewidth\":0,\"ticks\":\"\"},\"colorscale\":[[0.0,\"#0d0887\"],[0.1111111111111111,\"#46039f\"],[0.2222222222222222,\"#7201a8\"],[0.3333333333333333,\"#9c179e\"],[0.4444444444444444,\"#bd3786\"],[0.5555555555555556,\"#d8576b\"],[0.6666666666666666,\"#ed7953\"],[0.7777777777777778,\"#fb9f3a\"],[0.8888888888888888,\"#fdca26\"],[1.0,\"#f0f921\"]]}],\"heatmapgl\":[{\"type\":\"heatmapgl\",\"colorbar\":{\"outlinewidth\":0,\"ticks\":\"\"},\"colorscale\":[[0.0,\"#0d0887\"],[0.1111111111111111,\"#46039f\"],[0.2222222222222222,\"#7201a8\"],[0.3333333333333333,\"#9c179e\"],[0.4444444444444444,\"#bd3786\"],[0.5555555555555556,\"#d8576b\"],[0.6666666666666666,\"#ed7953\"],[0.7777777777777778,\"#fb9f3a\"],[0.8888888888888888,\"#fdca26\"],[1.0,\"#f0f921\"]]}],\"contourcarpet\":[{\"type\":\"contourcarpet\",\"colorbar\":{\"outlinewidth\":0,\"ticks\":\"\"}}],\"contour\":[{\"type\":\"contour\",\"colorbar\":{\"outlinewidth\":0,\"ticks\":\"\"},\"colorscale\":[[0.0,\"#0d0887\"],[0.1111111111111111,\"#46039f\"],[0.2222222222222222,\"#7201a8\"],[0.3333333333333333,\"#9c179e\"],[0.4444444444444444,\"#bd3786\"],[0.5555555555555556,\"#d8576b\"],[0.6666666666666666,\"#ed7953\"],[0.7777777777777778,\"#fb9f3a\"],[0.8888888888888888,\"#fdca26\"],[1.0,\"#f0f921\"]]}],\"surface\":[{\"type\":\"surface\",\"colorbar\":{\"outlinewidth\":0,\"ticks\":\"\"},\"colorscale\":[[0.0,\"#0d0887\"],[0.1111111111111111,\"#46039f\"],[0.2222222222222222,\"#7201a8\"],[0.3333333333333333,\"#9c179e\"],[0.4444444444444444,\"#bd3786\"],[0.5555555555555556,\"#d8576b\"],[0.6666666666666666,\"#ed7953\"],[0.7777777777777778,\"#fb9f3a\"],[0.8888888888888888,\"#fdca26\"],[1.0,\"#f0f921\"]]}],\"mesh3d\":[{\"type\":\"mesh3d\",\"colorbar\":{\"outlinewidth\":0,\"ticks\":\"\"}}],\"scatter\":[{\"marker\":{\"line\":{\"color\":\"#283442\"}},\"type\":\"scatter\"}],\"parcoords\":[{\"type\":\"parcoords\",\"line\":{\"colorbar\":{\"outlinewidth\":0,\"ticks\":\"\"}}}],\"scatterpolargl\":[{\"type\":\"scatterpolargl\",\"marker\":{\"colorbar\":{\"outlinewidth\":0,\"ticks\":\"\"}}}],\"bar\":[{\"error_x\":{\"color\":\"#f2f5fa\"},\"error_y\":{\"color\":\"#f2f5fa\"},\"marker\":{\"line\":{\"color\":\"rgb(17,17,17)\",\"width\":0.5},\"pattern\":{\"fillmode\":\"overlay\",\"size\":10,\"solidity\":0.2}},\"type\":\"bar\"}],\"scattergeo\":[{\"type\":\"scattergeo\",\"marker\":{\"colorbar\":{\"outlinewidth\":0,\"ticks\":\"\"}}}],\"scatterpolar\":[{\"type\":\"scatterpolar\",\"marker\":{\"colorbar\":{\"outlinewidth\":0,\"ticks\":\"\"}}}],\"histogram\":[{\"marker\":{\"pattern\":{\"fillmode\":\"overlay\",\"size\":10,\"solidity\":0.2}},\"type\":\"histogram\"}],\"scattergl\":[{\"marker\":{\"line\":{\"color\":\"#283442\"}},\"type\":\"scattergl\"}],\"scatter3d\":[{\"type\":\"scatter3d\",\"line\":{\"colorbar\":{\"outlinewidth\":0,\"ticks\":\"\"}},\"marker\":{\"colorbar\":{\"outlinewidth\":0,\"ticks\":\"\"}}}],\"scattermapbox\":[{\"type\":\"scattermapbox\",\"marker\":{\"colorbar\":{\"outlinewidth\":0,\"ticks\":\"\"}}}],\"scatterternary\":[{\"type\":\"scatterternary\",\"marker\":{\"colorbar\":{\"outlinewidth\":0,\"ticks\":\"\"}}}],\"scattercarpet\":[{\"type\":\"scattercarpet\",\"marker\":{\"colorbar\":{\"outlinewidth\":0,\"ticks\":\"\"}}}],\"carpet\":[{\"aaxis\":{\"endlinecolor\":\"#A2B1C6\",\"gridcolor\":\"#506784\",\"linecolor\":\"#506784\",\"minorgridcolor\":\"#506784\",\"startlinecolor\":\"#A2B1C6\"},\"baxis\":{\"endlinecolor\":\"#A2B1C6\",\"gridcolor\":\"#506784\",\"linecolor\":\"#506784\",\"minorgridcolor\":\"#506784\",\"startlinecolor\":\"#A2B1C6\"},\"type\":\"carpet\"}],\"table\":[{\"cells\":{\"fill\":{\"color\":\"#506784\"},\"line\":{\"color\":\"rgb(17,17,17)\"}},\"header\":{\"fill\":{\"color\":\"#2a3f5f\"},\"line\":{\"color\":\"rgb(17,17,17)\"}},\"type\":\"table\"}],\"barpolar\":[{\"marker\":{\"line\":{\"color\":\"rgb(17,17,17)\",\"width\":0.5},\"pattern\":{\"fillmode\":\"overlay\",\"size\":10,\"solidity\":0.2}},\"type\":\"barpolar\"}],\"pie\":[{\"automargin\":true,\"type\":\"pie\"}]},\"layout\":{\"autotypenumbers\":\"strict\",\"colorway\":[\"#636efa\",\"#EF553B\",\"#00cc96\",\"#ab63fa\",\"#FFA15A\",\"#19d3f3\",\"#FF6692\",\"#B6E880\",\"#FF97FF\",\"#FECB52\"],\"font\":{\"color\":\"#f2f5fa\"},\"hovermode\":\"closest\",\"hoverlabel\":{\"align\":\"left\"},\"paper_bgcolor\":\"rgb(17,17,17)\",\"plot_bgcolor\":\"rgb(17,17,17)\",\"polar\":{\"bgcolor\":\"rgb(17,17,17)\",\"angularaxis\":{\"gridcolor\":\"#506784\",\"linecolor\":\"#506784\",\"ticks\":\"\"},\"radialaxis\":{\"gridcolor\":\"#506784\",\"linecolor\":\"#506784\",\"ticks\":\"\"}},\"ternary\":{\"bgcolor\":\"rgb(17,17,17)\",\"aaxis\":{\"gridcolor\":\"#506784\",\"linecolor\":\"#506784\",\"ticks\":\"\"},\"baxis\":{\"gridcolor\":\"#506784\",\"linecolor\":\"#506784\",\"ticks\":\"\"},\"caxis\":{\"gridcolor\":\"#506784\",\"linecolor\":\"#506784\",\"ticks\":\"\"}},\"coloraxis\":{\"colorbar\":{\"outlinewidth\":0,\"ticks\":\"\"}},\"colorscale\":{\"sequential\":[[0.0,\"#0d0887\"],[0.1111111111111111,\"#46039f\"],[0.2222222222222222,\"#7201a8\"],[0.3333333333333333,\"#9c179e\"],[0.4444444444444444,\"#bd3786\"],[0.5555555555555556,\"#d8576b\"],[0.6666666666666666,\"#ed7953\"],[0.7777777777777778,\"#fb9f3a\"],[0.8888888888888888,\"#fdca26\"],[1.0,\"#f0f921\"]],\"sequentialminus\":[[0.0,\"#0d0887\"],[0.1111111111111111,\"#46039f\"],[0.2222222222222222,\"#7201a8\"],[0.3333333333333333,\"#9c179e\"],[0.4444444444444444,\"#bd3786\"],[0.5555555555555556,\"#d8576b\"],[0.6666666666666666,\"#ed7953\"],[0.7777777777777778,\"#fb9f3a\"],[0.8888888888888888,\"#fdca26\"],[1.0,\"#f0f921\"]],\"diverging\":[[0,\"#8e0152\"],[0.1,\"#c51b7d\"],[0.2,\"#de77ae\"],[0.3,\"#f1b6da\"],[0.4,\"#fde0ef\"],[0.5,\"#f7f7f7\"],[0.6,\"#e6f5d0\"],[0.7,\"#b8e186\"],[0.8,\"#7fbc41\"],[0.9,\"#4d9221\"],[1,\"#276419\"]]},\"xaxis\":{\"gridcolor\":\"#283442\",\"linecolor\":\"#506784\",\"ticks\":\"\",\"title\":{\"standoff\":15},\"zerolinecolor\":\"#283442\",\"automargin\":true,\"zerolinewidth\":2},\"yaxis\":{\"gridcolor\":\"#283442\",\"linecolor\":\"#506784\",\"ticks\":\"\",\"title\":{\"standoff\":15},\"zerolinecolor\":\"#283442\",\"automargin\":true,\"zerolinewidth\":2},\"scene\":{\"xaxis\":{\"backgroundcolor\":\"rgb(17,17,17)\",\"gridcolor\":\"#506784\",\"linecolor\":\"#506784\",\"showbackground\":true,\"ticks\":\"\",\"zerolinecolor\":\"#C8D4E3\",\"gridwidth\":2},\"yaxis\":{\"backgroundcolor\":\"rgb(17,17,17)\",\"gridcolor\":\"#506784\",\"linecolor\":\"#506784\",\"showbackground\":true,\"ticks\":\"\",\"zerolinecolor\":\"#C8D4E3\",\"gridwidth\":2},\"zaxis\":{\"backgroundcolor\":\"rgb(17,17,17)\",\"gridcolor\":\"#506784\",\"linecolor\":\"#506784\",\"showbackground\":true,\"ticks\":\"\",\"zerolinecolor\":\"#C8D4E3\",\"gridwidth\":2}},\"shapedefaults\":{\"line\":{\"color\":\"#f2f5fa\"}},\"annotationdefaults\":{\"arrowcolor\":\"#f2f5fa\",\"arrowhead\":0,\"arrowwidth\":1},\"geo\":{\"bgcolor\":\"rgb(17,17,17)\",\"landcolor\":\"rgb(17,17,17)\",\"subunitcolor\":\"#506784\",\"showland\":true,\"showlakes\":true,\"lakecolor\":\"rgb(17,17,17)\"},\"title\":{\"x\":0.05},\"updatemenudefaults\":{\"bgcolor\":\"#506784\",\"borderwidth\":0},\"sliderdefaults\":{\"bgcolor\":\"#C8D4E3\",\"borderwidth\":1,\"bordercolor\":\"rgb(17,17,17)\",\"tickwidth\":0},\"mapbox\":{\"style\":\"dark\"}}},\"legend\":{\"title\":{\"text\":\"Contestant\"}},\"title\":{\"text\":\"\\u041d\\u0430\\u0441\\u0435\\u043b\\u0435\\u043d\\u0438\\u0435 \\u0441\\u0442\\u0440\\u0430\\u043d\",\"font\":{\"size\":20},\"xanchor\":\"center\"},\"xaxis\":{\"title\":{\"text\":\"Countries\"}},\"yaxis\":{\"title\":{\"text\":\"Population\"}}},                        {\"responsive\": true}                    ).then(function(){\n",
       "                            \n",
       "var gd = document.getElementById('ff7a7c9d-0da4-4432-9221-04ba2c03afc4');\n",
       "var x = new MutationObserver(function (mutations, observer) {{\n",
       "        var display = window.getComputedStyle(gd).display;\n",
       "        if (!display || display === 'none') {{\n",
       "            console.log([gd, 'removed!']);\n",
       "            Plotly.purge(gd);\n",
       "            observer.disconnect();\n",
       "        }}\n",
       "}});\n",
       "\n",
       "// Listen for the removal of the full notebook cells\n",
       "var notebookContainer = gd.closest('#notebook-container');\n",
       "if (notebookContainer) {{\n",
       "    x.observe(notebookContainer, {childList: true});\n",
       "}}\n",
       "\n",
       "// Listen for the clearing of the current output cell\n",
       "var outputEl = gd.closest('.output');\n",
       "if (outputEl) {{\n",
       "    x.observe(outputEl, {childList: true});\n",
       "}}\n",
       "\n",
       "                        })                };                });            </script>        </div>"
      ]
     },
     "metadata": {},
     "output_type": "display_data"
    }
   ],
   "source": [
    "fig = go.Figure()\n",
    "fig.add_trace(go.Bar(x=data[\"CCA3\"], y=data[\"2022\"],\n",
    "                     marker=dict(color=data['2022'],coloraxis='coloraxis')))\n",
    "\n",
    "fig.update_traces(marker_line_color='rgb(0,0,0)',\n",
    "                  marker_line_width=2)\n",
    "fig.update_layout(legend_title_text = \"Contestant\", title='Население стран',  titlefont_size=20, title_xanchor='center')\n",
    "fig.update_xaxes(title_text=\"Countries\")\n",
    "fig.update_yaxes(title_text=\"Population\")\n",
    "fig.show()"
   ]
  },
  {
   "cell_type": "code",
   "execution_count": null,
   "metadata": {
    "pycharm": {
     "name": "#%%\n"
    }
   },
   "outputs": [],
   "source": []
  },
  {
   "cell_type": "code",
   "execution_count": null,
   "metadata": {},
   "outputs": [],
   "source": []
  }
 ],
 "metadata": {
  "kernelspec": {
   "display_name": "Python 3 (ipykernel)",
   "language": "python",
   "name": "python3"
  },
  "language_info": {
   "codemirror_mode": {
    "name": "ipython",
    "version": 3
   },
   "file_extension": ".py",
   "mimetype": "text/x-python",
   "name": "python",
   "nbconvert_exporter": "python",
   "pygments_lexer": "ipython3",
   "version": "3.10.7"
  }
 },
 "nbformat": 4,
 "nbformat_minor": 1
}

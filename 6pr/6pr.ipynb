{
 "cells": [
  {
   "cell_type": "markdown",
   "source": [
    "Загрузить данные из файла “ECDCCases.csv”.\n"
   ],
   "metadata": {
    "collapsed": false,
    "pycharm": {
     "name": "#%% md\n"
    }
   }
  },
  {
   "cell_type": "code",
   "execution_count": 51,
   "outputs": [
    {
     "data": {
      "text/plain": "          dateRep  day  month  year  cases  deaths countriesAndTerritories  \\\n0      14/12/2020   14     12  2020    746       6             Afghanistan   \n1      13/12/2020   13     12  2020    298       9             Afghanistan   \n2      12/12/2020   12     12  2020    113      11             Afghanistan   \n3      12/12/2020   12     12  2020    113      11             Afghanistan   \n4      11/12/2020   11     12  2020     63      10             Afghanistan   \n...           ...  ...    ...   ...    ...     ...                     ...   \n61899  25/03/2020   25      3  2020      0       0                Zimbabwe   \n61900  24/03/2020   24      3  2020      0       1                Zimbabwe   \n61901  23/03/2020   23      3  2020      0       0                Zimbabwe   \n61902  22/03/2020   22      3  2020      1       0                Zimbabwe   \n61903  21/03/2020   21      3  2020      1       0                Zimbabwe   \n\n      geoId countryterritoryCode  popData2019 continentExp  \\\n0        AF                  AFG   38041757.0         Asia   \n1        AF                  AFG   38041757.0         Asia   \n2        AF                  AFG   38041757.0         Asia   \n3        AF                  AFG   38041757.0         Asia   \n4        AF                  AFG   38041757.0         Asia   \n...     ...                  ...          ...          ...   \n61899    ZW                  ZWE   14645473.0       Africa   \n61900    ZW                  ZWE   14645473.0       Africa   \n61901    ZW                  ZWE   14645473.0       Africa   \n61902    ZW                  ZWE   14645473.0       Africa   \n61903    ZW                  ZWE   14645473.0       Africa   \n\n       Cumulative_number_for_14_days_of_COVID-19_cases_per_100000  \n0                                               9.013779           \n1                                               7.052776           \n2                                               6.868768           \n3                                               6.868768           \n4                                               7.134266           \n...                                                  ...           \n61899                                                NaN           \n61900                                                NaN           \n61901                                                NaN           \n61902                                                NaN           \n61903                                                NaN           \n\n[61904 rows x 12 columns]",
      "text/html": "<div>\n<style scoped>\n    .dataframe tbody tr th:only-of-type {\n        vertical-align: middle;\n    }\n\n    .dataframe tbody tr th {\n        vertical-align: top;\n    }\n\n    .dataframe thead th {\n        text-align: right;\n    }\n</style>\n<table border=\"1\" class=\"dataframe\">\n  <thead>\n    <tr style=\"text-align: right;\">\n      <th></th>\n      <th>dateRep</th>\n      <th>day</th>\n      <th>month</th>\n      <th>year</th>\n      <th>cases</th>\n      <th>deaths</th>\n      <th>countriesAndTerritories</th>\n      <th>geoId</th>\n      <th>countryterritoryCode</th>\n      <th>popData2019</th>\n      <th>continentExp</th>\n      <th>Cumulative_number_for_14_days_of_COVID-19_cases_per_100000</th>\n    </tr>\n  </thead>\n  <tbody>\n    <tr>\n      <th>0</th>\n      <td>14/12/2020</td>\n      <td>14</td>\n      <td>12</td>\n      <td>2020</td>\n      <td>746</td>\n      <td>6</td>\n      <td>Afghanistan</td>\n      <td>AF</td>\n      <td>AFG</td>\n      <td>38041757.0</td>\n      <td>Asia</td>\n      <td>9.013779</td>\n    </tr>\n    <tr>\n      <th>1</th>\n      <td>13/12/2020</td>\n      <td>13</td>\n      <td>12</td>\n      <td>2020</td>\n      <td>298</td>\n      <td>9</td>\n      <td>Afghanistan</td>\n      <td>AF</td>\n      <td>AFG</td>\n      <td>38041757.0</td>\n      <td>Asia</td>\n      <td>7.052776</td>\n    </tr>\n    <tr>\n      <th>2</th>\n      <td>12/12/2020</td>\n      <td>12</td>\n      <td>12</td>\n      <td>2020</td>\n      <td>113</td>\n      <td>11</td>\n      <td>Afghanistan</td>\n      <td>AF</td>\n      <td>AFG</td>\n      <td>38041757.0</td>\n      <td>Asia</td>\n      <td>6.868768</td>\n    </tr>\n    <tr>\n      <th>3</th>\n      <td>12/12/2020</td>\n      <td>12</td>\n      <td>12</td>\n      <td>2020</td>\n      <td>113</td>\n      <td>11</td>\n      <td>Afghanistan</td>\n      <td>AF</td>\n      <td>AFG</td>\n      <td>38041757.0</td>\n      <td>Asia</td>\n      <td>6.868768</td>\n    </tr>\n    <tr>\n      <th>4</th>\n      <td>11/12/2020</td>\n      <td>11</td>\n      <td>12</td>\n      <td>2020</td>\n      <td>63</td>\n      <td>10</td>\n      <td>Afghanistan</td>\n      <td>AF</td>\n      <td>AFG</td>\n      <td>38041757.0</td>\n      <td>Asia</td>\n      <td>7.134266</td>\n    </tr>\n    <tr>\n      <th>...</th>\n      <td>...</td>\n      <td>...</td>\n      <td>...</td>\n      <td>...</td>\n      <td>...</td>\n      <td>...</td>\n      <td>...</td>\n      <td>...</td>\n      <td>...</td>\n      <td>...</td>\n      <td>...</td>\n      <td>...</td>\n    </tr>\n    <tr>\n      <th>61899</th>\n      <td>25/03/2020</td>\n      <td>25</td>\n      <td>3</td>\n      <td>2020</td>\n      <td>0</td>\n      <td>0</td>\n      <td>Zimbabwe</td>\n      <td>ZW</td>\n      <td>ZWE</td>\n      <td>14645473.0</td>\n      <td>Africa</td>\n      <td>NaN</td>\n    </tr>\n    <tr>\n      <th>61900</th>\n      <td>24/03/2020</td>\n      <td>24</td>\n      <td>3</td>\n      <td>2020</td>\n      <td>0</td>\n      <td>1</td>\n      <td>Zimbabwe</td>\n      <td>ZW</td>\n      <td>ZWE</td>\n      <td>14645473.0</td>\n      <td>Africa</td>\n      <td>NaN</td>\n    </tr>\n    <tr>\n      <th>61901</th>\n      <td>23/03/2020</td>\n      <td>23</td>\n      <td>3</td>\n      <td>2020</td>\n      <td>0</td>\n      <td>0</td>\n      <td>Zimbabwe</td>\n      <td>ZW</td>\n      <td>ZWE</td>\n      <td>14645473.0</td>\n      <td>Africa</td>\n      <td>NaN</td>\n    </tr>\n    <tr>\n      <th>61902</th>\n      <td>22/03/2020</td>\n      <td>22</td>\n      <td>3</td>\n      <td>2020</td>\n      <td>1</td>\n      <td>0</td>\n      <td>Zimbabwe</td>\n      <td>ZW</td>\n      <td>ZWE</td>\n      <td>14645473.0</td>\n      <td>Africa</td>\n      <td>NaN</td>\n    </tr>\n    <tr>\n      <th>61903</th>\n      <td>21/03/2020</td>\n      <td>21</td>\n      <td>3</td>\n      <td>2020</td>\n      <td>1</td>\n      <td>0</td>\n      <td>Zimbabwe</td>\n      <td>ZW</td>\n      <td>ZWE</td>\n      <td>14645473.0</td>\n      <td>Africa</td>\n      <td>NaN</td>\n    </tr>\n  </tbody>\n</table>\n<p>61904 rows × 12 columns</p>\n</div>"
     },
     "execution_count": 51,
     "metadata": {},
     "output_type": "execute_result"
    }
   ],
   "source": [
    "import numpy as np\n",
    "import pandas as pd\n",
    "\n",
    "\n",
    "read = pd.read_csv('ECDCCases.csv')\n",
    "\n",
    "df = pd.DataFrame(read)\n",
    "\n",
    "df"
   ],
   "metadata": {
    "collapsed": false,
    "pycharm": {
     "name": "#%%\n"
    }
   }
  },
  {
   "cell_type": "markdown",
   "source": [
    "Проверить в данных наличие пропущенных значений. Вывести количество пропущенных значений в процентах. Удалить два признака, в которых больше всех пропущенных значений. Для оставшихся признаков обработать пропуски: для категориального признака использовать заполнение значением по умолчанию (например, «other»), для числового признака использовать заполнение медианным значением. Показать, что пропусков больше в данных нет."
   ],
   "metadata": {
    "collapsed": false,
    "pycharm": {
     "name": "#%% md\n"
    }
   }
  },
  {
   "cell_type": "code",
   "execution_count": 52,
   "outputs": [
    {
     "name": "stdout",
     "output_type": "stream",
     "text": [
      "<class 'pandas.core.frame.DataFrame'>\n",
      "RangeIndex: 61904 entries, 0 to 61903\n",
      "Data columns (total 12 columns):\n",
      " #   Column                                                      Non-Null Count  Dtype  \n",
      "---  ------                                                      --------------  -----  \n",
      " 0   dateRep                                                     61904 non-null  object \n",
      " 1   day                                                         61904 non-null  int64  \n",
      " 2   month                                                       61904 non-null  int64  \n",
      " 3   year                                                        61904 non-null  int64  \n",
      " 4   cases                                                       61904 non-null  int64  \n",
      " 5   deaths                                                      61904 non-null  int64  \n",
      " 6   countriesAndTerritories                                     61904 non-null  object \n",
      " 7   geoId                                                       61629 non-null  object \n",
      " 8   countryterritoryCode                                        61781 non-null  object \n",
      " 9   popData2019                                                 61781 non-null  float64\n",
      " 10  continentExp                                                61904 non-null  object \n",
      " 11  Cumulative_number_for_14_days_of_COVID-19_cases_per_100000  59025 non-null  float64\n",
      "dtypes: float64(2), int64(5), object(5)\n",
      "memory usage: 5.7+ MB\n"
     ]
    }
   ],
   "source": [
    "df.info()"
   ],
   "metadata": {
    "collapsed": false,
    "pycharm": {
     "name": "#%%\n"
    }
   }
  },
  {
   "cell_type": "code",
   "execution_count": 53,
   "outputs": [
    {
     "data": {
      "text/plain": "                                                                                          column_name  \\\ndateRep                                                                                       dateRep   \nday                                                                                               day   \nmonth                                                                                           month   \nyear                                                                                             year   \ncases                                                                                           cases   \ndeaths                                                                                         deaths   \ncountriesAndTerritories                                                       countriesAndTerritories   \ngeoId                                                                                           geoId   \ncountryterritoryCode                                                             countryterritoryCode   \npopData2019                                                                               popData2019   \ncontinentExp                                                                             continentExp   \nCumulative_number_for_14_days_of_COVID-19_cases...  Cumulative_number_for_14_days_of_COVID-19_case...   \n\n                                                    percent_missing  \ndateRep                                                    0.000000  \nday                                                        0.000000  \nmonth                                                      0.000000  \nyear                                                       0.000000  \ncases                                                      0.000000  \ndeaths                                                     0.000000  \ncountriesAndTerritories                                    0.000000  \ngeoId                                                      0.444236  \ncountryterritoryCode                                       0.198695  \npopData2019                                                0.198695  \ncontinentExp                                               0.000000  \nCumulative_number_for_14_days_of_COVID-19_cases...         4.650750  ",
      "text/html": "<div>\n<style scoped>\n    .dataframe tbody tr th:only-of-type {\n        vertical-align: middle;\n    }\n\n    .dataframe tbody tr th {\n        vertical-align: top;\n    }\n\n    .dataframe thead th {\n        text-align: right;\n    }\n</style>\n<table border=\"1\" class=\"dataframe\">\n  <thead>\n    <tr style=\"text-align: right;\">\n      <th></th>\n      <th>column_name</th>\n      <th>percent_missing</th>\n    </tr>\n  </thead>\n  <tbody>\n    <tr>\n      <th>dateRep</th>\n      <td>dateRep</td>\n      <td>0.000000</td>\n    </tr>\n    <tr>\n      <th>day</th>\n      <td>day</td>\n      <td>0.000000</td>\n    </tr>\n    <tr>\n      <th>month</th>\n      <td>month</td>\n      <td>0.000000</td>\n    </tr>\n    <tr>\n      <th>year</th>\n      <td>year</td>\n      <td>0.000000</td>\n    </tr>\n    <tr>\n      <th>cases</th>\n      <td>cases</td>\n      <td>0.000000</td>\n    </tr>\n    <tr>\n      <th>deaths</th>\n      <td>deaths</td>\n      <td>0.000000</td>\n    </tr>\n    <tr>\n      <th>countriesAndTerritories</th>\n      <td>countriesAndTerritories</td>\n      <td>0.000000</td>\n    </tr>\n    <tr>\n      <th>geoId</th>\n      <td>geoId</td>\n      <td>0.444236</td>\n    </tr>\n    <tr>\n      <th>countryterritoryCode</th>\n      <td>countryterritoryCode</td>\n      <td>0.198695</td>\n    </tr>\n    <tr>\n      <th>popData2019</th>\n      <td>popData2019</td>\n      <td>0.198695</td>\n    </tr>\n    <tr>\n      <th>continentExp</th>\n      <td>continentExp</td>\n      <td>0.000000</td>\n    </tr>\n    <tr>\n      <th>Cumulative_number_for_14_days_of_COVID-19_cases_per_100000</th>\n      <td>Cumulative_number_for_14_days_of_COVID-19_case...</td>\n      <td>4.650750</td>\n    </tr>\n  </tbody>\n</table>\n</div>"
     },
     "execution_count": 53,
     "metadata": {},
     "output_type": "execute_result"
    }
   ],
   "source": [
    "percent_missing = df.isnull().sum() * 100 / len(df)\n",
    "missing_value_df = pd.DataFrame({'column_name': df.columns,\n",
    "                                 'percent_missing': percent_missing})\n",
    "missing_value_df"
   ],
   "metadata": {
    "collapsed": false,
    "pycharm": {
     "name": "#%%\n"
    }
   }
  },
  {
   "cell_type": "code",
   "execution_count": 54,
   "outputs": [
    {
     "data": {
      "text/plain": "          dateRep  day  month  year  cases  deaths countriesAndTerritories  \\\n0      14/12/2020   14     12  2020    746       6             Afghanistan   \n1      13/12/2020   13     12  2020    298       9             Afghanistan   \n2      12/12/2020   12     12  2020    113      11             Afghanistan   \n3      12/12/2020   12     12  2020    113      11             Afghanistan   \n4      11/12/2020   11     12  2020     63      10             Afghanistan   \n...           ...  ...    ...   ...    ...     ...                     ...   \n61899  25/03/2020   25      3  2020      0       0                Zimbabwe   \n61900  24/03/2020   24      3  2020      0       1                Zimbabwe   \n61901  23/03/2020   23      3  2020      0       0                Zimbabwe   \n61902  22/03/2020   22      3  2020      1       0                Zimbabwe   \n61903  21/03/2020   21      3  2020      1       0                Zimbabwe   \n\n      countryterritoryCode continentExp  \n0                      AFG         Asia  \n1                      AFG         Asia  \n2                      AFG         Asia  \n3                      AFG         Asia  \n4                      AFG         Asia  \n...                    ...          ...  \n61899                  ZWE       Africa  \n61900                  ZWE       Africa  \n61901                  ZWE       Africa  \n61902                  ZWE       Africa  \n61903                  ZWE       Africa  \n\n[61904 rows x 9 columns]",
      "text/html": "<div>\n<style scoped>\n    .dataframe tbody tr th:only-of-type {\n        vertical-align: middle;\n    }\n\n    .dataframe tbody tr th {\n        vertical-align: top;\n    }\n\n    .dataframe thead th {\n        text-align: right;\n    }\n</style>\n<table border=\"1\" class=\"dataframe\">\n  <thead>\n    <tr style=\"text-align: right;\">\n      <th></th>\n      <th>dateRep</th>\n      <th>day</th>\n      <th>month</th>\n      <th>year</th>\n      <th>cases</th>\n      <th>deaths</th>\n      <th>countriesAndTerritories</th>\n      <th>countryterritoryCode</th>\n      <th>continentExp</th>\n    </tr>\n  </thead>\n  <tbody>\n    <tr>\n      <th>0</th>\n      <td>14/12/2020</td>\n      <td>14</td>\n      <td>12</td>\n      <td>2020</td>\n      <td>746</td>\n      <td>6</td>\n      <td>Afghanistan</td>\n      <td>AFG</td>\n      <td>Asia</td>\n    </tr>\n    <tr>\n      <th>1</th>\n      <td>13/12/2020</td>\n      <td>13</td>\n      <td>12</td>\n      <td>2020</td>\n      <td>298</td>\n      <td>9</td>\n      <td>Afghanistan</td>\n      <td>AFG</td>\n      <td>Asia</td>\n    </tr>\n    <tr>\n      <th>2</th>\n      <td>12/12/2020</td>\n      <td>12</td>\n      <td>12</td>\n      <td>2020</td>\n      <td>113</td>\n      <td>11</td>\n      <td>Afghanistan</td>\n      <td>AFG</td>\n      <td>Asia</td>\n    </tr>\n    <tr>\n      <th>3</th>\n      <td>12/12/2020</td>\n      <td>12</td>\n      <td>12</td>\n      <td>2020</td>\n      <td>113</td>\n      <td>11</td>\n      <td>Afghanistan</td>\n      <td>AFG</td>\n      <td>Asia</td>\n    </tr>\n    <tr>\n      <th>4</th>\n      <td>11/12/2020</td>\n      <td>11</td>\n      <td>12</td>\n      <td>2020</td>\n      <td>63</td>\n      <td>10</td>\n      <td>Afghanistan</td>\n      <td>AFG</td>\n      <td>Asia</td>\n    </tr>\n    <tr>\n      <th>...</th>\n      <td>...</td>\n      <td>...</td>\n      <td>...</td>\n      <td>...</td>\n      <td>...</td>\n      <td>...</td>\n      <td>...</td>\n      <td>...</td>\n      <td>...</td>\n    </tr>\n    <tr>\n      <th>61899</th>\n      <td>25/03/2020</td>\n      <td>25</td>\n      <td>3</td>\n      <td>2020</td>\n      <td>0</td>\n      <td>0</td>\n      <td>Zimbabwe</td>\n      <td>ZWE</td>\n      <td>Africa</td>\n    </tr>\n    <tr>\n      <th>61900</th>\n      <td>24/03/2020</td>\n      <td>24</td>\n      <td>3</td>\n      <td>2020</td>\n      <td>0</td>\n      <td>1</td>\n      <td>Zimbabwe</td>\n      <td>ZWE</td>\n      <td>Africa</td>\n    </tr>\n    <tr>\n      <th>61901</th>\n      <td>23/03/2020</td>\n      <td>23</td>\n      <td>3</td>\n      <td>2020</td>\n      <td>0</td>\n      <td>0</td>\n      <td>Zimbabwe</td>\n      <td>ZWE</td>\n      <td>Africa</td>\n    </tr>\n    <tr>\n      <th>61902</th>\n      <td>22/03/2020</td>\n      <td>22</td>\n      <td>3</td>\n      <td>2020</td>\n      <td>1</td>\n      <td>0</td>\n      <td>Zimbabwe</td>\n      <td>ZWE</td>\n      <td>Africa</td>\n    </tr>\n    <tr>\n      <th>61903</th>\n      <td>21/03/2020</td>\n      <td>21</td>\n      <td>3</td>\n      <td>2020</td>\n      <td>1</td>\n      <td>0</td>\n      <td>Zimbabwe</td>\n      <td>ZWE</td>\n      <td>Africa</td>\n    </tr>\n  </tbody>\n</table>\n<p>61904 rows × 9 columns</p>\n</div>"
     },
     "execution_count": 54,
     "metadata": {},
     "output_type": "execute_result"
    }
   ],
   "source": [
    "df = df.drop(columns=['Cumulative_number_for_14_days_of_COVID-19_cases_per_100000', 'geoId', 'popData2019'])\n",
    "df"
   ],
   "metadata": {
    "collapsed": false,
    "pycharm": {
     "name": "#%%\n"
    }
   }
  },
  {
   "cell_type": "code",
   "execution_count": 55,
   "outputs": [
    {
     "data": {
      "text/plain": "dateRep                    0\nday                        0\nmonth                      0\nyear                       0\ncases                      0\ndeaths                     0\ncountriesAndTerritories    0\ncountryterritoryCode       0\ncontinentExp               0\ndtype: int64"
     },
     "execution_count": 55,
     "metadata": {},
     "output_type": "execute_result"
    }
   ],
   "source": [
    "df['countryterritoryCode'] = df['countryterritoryCode'].replace(np.nan, 'other')\n",
    "\n",
    "df.isna().sum()"
   ],
   "metadata": {
    "collapsed": false,
    "pycharm": {
     "name": "#%%\n"
    }
   }
  },
  {
   "cell_type": "markdown",
   "source": [
    "Посмотреть статистику по данным, используя describe(). Сделать выводы о том, какие признаки содержат выбросы. Посмотреть, для каких стран количество смертей в день превысило 3000 и сколько таких дней было."
   ],
   "metadata": {
    "collapsed": false,
    "pycharm": {
     "name": "#%% md\n"
    }
   }
  },
  {
   "cell_type": "code",
   "execution_count": 56,
   "outputs": [
    {
     "data": {
      "text/plain": "                day         month          year          cases        deaths\ncount  61904.000000  61904.000000  61904.000000   61904.000000  61904.000000\nmean      15.629232      7.067104   2019.998918    1155.079026     26.053987\nstd        8.841624      2.954816      0.032881    6779.010824    131.222948\nmin        1.000000      1.000000   2019.000000   -8261.000000  -1918.000000\n25%        8.000000      5.000000   2020.000000       0.000000      0.000000\n50%       15.000000      7.000000   2020.000000      15.000000      0.000000\n75%       23.000000     10.000000   2020.000000     273.000000      4.000000\nmax       31.000000     12.000000   2020.000000  234633.000000   4928.000000",
      "text/html": "<div>\n<style scoped>\n    .dataframe tbody tr th:only-of-type {\n        vertical-align: middle;\n    }\n\n    .dataframe tbody tr th {\n        vertical-align: top;\n    }\n\n    .dataframe thead th {\n        text-align: right;\n    }\n</style>\n<table border=\"1\" class=\"dataframe\">\n  <thead>\n    <tr style=\"text-align: right;\">\n      <th></th>\n      <th>day</th>\n      <th>month</th>\n      <th>year</th>\n      <th>cases</th>\n      <th>deaths</th>\n    </tr>\n  </thead>\n  <tbody>\n    <tr>\n      <th>count</th>\n      <td>61904.000000</td>\n      <td>61904.000000</td>\n      <td>61904.000000</td>\n      <td>61904.000000</td>\n      <td>61904.000000</td>\n    </tr>\n    <tr>\n      <th>mean</th>\n      <td>15.629232</td>\n      <td>7.067104</td>\n      <td>2019.998918</td>\n      <td>1155.079026</td>\n      <td>26.053987</td>\n    </tr>\n    <tr>\n      <th>std</th>\n      <td>8.841624</td>\n      <td>2.954816</td>\n      <td>0.032881</td>\n      <td>6779.010824</td>\n      <td>131.222948</td>\n    </tr>\n    <tr>\n      <th>min</th>\n      <td>1.000000</td>\n      <td>1.000000</td>\n      <td>2019.000000</td>\n      <td>-8261.000000</td>\n      <td>-1918.000000</td>\n    </tr>\n    <tr>\n      <th>25%</th>\n      <td>8.000000</td>\n      <td>5.000000</td>\n      <td>2020.000000</td>\n      <td>0.000000</td>\n      <td>0.000000</td>\n    </tr>\n    <tr>\n      <th>50%</th>\n      <td>15.000000</td>\n      <td>7.000000</td>\n      <td>2020.000000</td>\n      <td>15.000000</td>\n      <td>0.000000</td>\n    </tr>\n    <tr>\n      <th>75%</th>\n      <td>23.000000</td>\n      <td>10.000000</td>\n      <td>2020.000000</td>\n      <td>273.000000</td>\n      <td>4.000000</td>\n    </tr>\n    <tr>\n      <th>max</th>\n      <td>31.000000</td>\n      <td>12.000000</td>\n      <td>2020.000000</td>\n      <td>234633.000000</td>\n      <td>4928.000000</td>\n    </tr>\n  </tbody>\n</table>\n</div>"
     },
     "execution_count": 56,
     "metadata": {},
     "output_type": "execute_result"
    }
   ],
   "source": [
    "df.describe()"
   ],
   "metadata": {
    "collapsed": false,
    "pycharm": {
     "name": "#%%\n"
    }
   }
  },
  {
   "cell_type": "code",
   "execution_count": 57,
   "outputs": [
    {
     "data": {
      "text/plain": "2118     3351\n16908    3800\n37038    3013\n44888    3935\n44909    3887\n59007    3343\n59009    3124\n59016    3190\n59239    3179\n59245    3770\n59247    4928\nName: deaths, dtype: int64"
     },
     "execution_count": 57,
     "metadata": {},
     "output_type": "execute_result"
    }
   ],
   "source": [
    "df['deaths'].loc[lambda x : x > 3000]"
   ],
   "metadata": {
    "collapsed": false,
    "pycharm": {
     "name": "#%%\n"
    }
   }
  },
  {
   "cell_type": "markdown",
   "source": [
    "Найти дублирование данных. Удалить дубликаты."
   ],
   "metadata": {
    "collapsed": false,
    "pycharm": {
     "name": "#%% md\n"
    }
   }
  },
  {
   "cell_type": "code",
   "execution_count": 58,
   "outputs": [
    {
     "data": {
      "text/plain": "          dateRep  day  month  year  cases  deaths countriesAndTerritories  \\\n0      14/12/2020   14     12  2020    746       6             Afghanistan   \n1      13/12/2020   13     12  2020    298       9             Afghanistan   \n2      12/12/2020   12     12  2020    113      11             Afghanistan   \n4      11/12/2020   11     12  2020     63      10             Afghanistan   \n5      10/12/2020   10     12  2020    202      16             Afghanistan   \n...           ...  ...    ...   ...    ...     ...                     ...   \n61899  25/03/2020   25      3  2020      0       0                Zimbabwe   \n61900  24/03/2020   24      3  2020      0       1                Zimbabwe   \n61901  23/03/2020   23      3  2020      0       0                Zimbabwe   \n61902  22/03/2020   22      3  2020      1       0                Zimbabwe   \n61903  21/03/2020   21      3  2020      1       0                Zimbabwe   \n\n      countryterritoryCode continentExp  \n0                      AFG         Asia  \n1                      AFG         Asia  \n2                      AFG         Asia  \n4                      AFG         Asia  \n5                      AFG         Asia  \n...                    ...          ...  \n61899                  ZWE       Africa  \n61900                  ZWE       Africa  \n61901                  ZWE       Africa  \n61902                  ZWE       Africa  \n61903                  ZWE       Africa  \n\n[61900 rows x 9 columns]",
      "text/html": "<div>\n<style scoped>\n    .dataframe tbody tr th:only-of-type {\n        vertical-align: middle;\n    }\n\n    .dataframe tbody tr th {\n        vertical-align: top;\n    }\n\n    .dataframe thead th {\n        text-align: right;\n    }\n</style>\n<table border=\"1\" class=\"dataframe\">\n  <thead>\n    <tr style=\"text-align: right;\">\n      <th></th>\n      <th>dateRep</th>\n      <th>day</th>\n      <th>month</th>\n      <th>year</th>\n      <th>cases</th>\n      <th>deaths</th>\n      <th>countriesAndTerritories</th>\n      <th>countryterritoryCode</th>\n      <th>continentExp</th>\n    </tr>\n  </thead>\n  <tbody>\n    <tr>\n      <th>0</th>\n      <td>14/12/2020</td>\n      <td>14</td>\n      <td>12</td>\n      <td>2020</td>\n      <td>746</td>\n      <td>6</td>\n      <td>Afghanistan</td>\n      <td>AFG</td>\n      <td>Asia</td>\n    </tr>\n    <tr>\n      <th>1</th>\n      <td>13/12/2020</td>\n      <td>13</td>\n      <td>12</td>\n      <td>2020</td>\n      <td>298</td>\n      <td>9</td>\n      <td>Afghanistan</td>\n      <td>AFG</td>\n      <td>Asia</td>\n    </tr>\n    <tr>\n      <th>2</th>\n      <td>12/12/2020</td>\n      <td>12</td>\n      <td>12</td>\n      <td>2020</td>\n      <td>113</td>\n      <td>11</td>\n      <td>Afghanistan</td>\n      <td>AFG</td>\n      <td>Asia</td>\n    </tr>\n    <tr>\n      <th>4</th>\n      <td>11/12/2020</td>\n      <td>11</td>\n      <td>12</td>\n      <td>2020</td>\n      <td>63</td>\n      <td>10</td>\n      <td>Afghanistan</td>\n      <td>AFG</td>\n      <td>Asia</td>\n    </tr>\n    <tr>\n      <th>5</th>\n      <td>10/12/2020</td>\n      <td>10</td>\n      <td>12</td>\n      <td>2020</td>\n      <td>202</td>\n      <td>16</td>\n      <td>Afghanistan</td>\n      <td>AFG</td>\n      <td>Asia</td>\n    </tr>\n    <tr>\n      <th>...</th>\n      <td>...</td>\n      <td>...</td>\n      <td>...</td>\n      <td>...</td>\n      <td>...</td>\n      <td>...</td>\n      <td>...</td>\n      <td>...</td>\n      <td>...</td>\n    </tr>\n    <tr>\n      <th>61899</th>\n      <td>25/03/2020</td>\n      <td>25</td>\n      <td>3</td>\n      <td>2020</td>\n      <td>0</td>\n      <td>0</td>\n      <td>Zimbabwe</td>\n      <td>ZWE</td>\n      <td>Africa</td>\n    </tr>\n    <tr>\n      <th>61900</th>\n      <td>24/03/2020</td>\n      <td>24</td>\n      <td>3</td>\n      <td>2020</td>\n      <td>0</td>\n      <td>1</td>\n      <td>Zimbabwe</td>\n      <td>ZWE</td>\n      <td>Africa</td>\n    </tr>\n    <tr>\n      <th>61901</th>\n      <td>23/03/2020</td>\n      <td>23</td>\n      <td>3</td>\n      <td>2020</td>\n      <td>0</td>\n      <td>0</td>\n      <td>Zimbabwe</td>\n      <td>ZWE</td>\n      <td>Africa</td>\n    </tr>\n    <tr>\n      <th>61902</th>\n      <td>22/03/2020</td>\n      <td>22</td>\n      <td>3</td>\n      <td>2020</td>\n      <td>1</td>\n      <td>0</td>\n      <td>Zimbabwe</td>\n      <td>ZWE</td>\n      <td>Africa</td>\n    </tr>\n    <tr>\n      <th>61903</th>\n      <td>21/03/2020</td>\n      <td>21</td>\n      <td>3</td>\n      <td>2020</td>\n      <td>1</td>\n      <td>0</td>\n      <td>Zimbabwe</td>\n      <td>ZWE</td>\n      <td>Africa</td>\n    </tr>\n  </tbody>\n</table>\n<p>61900 rows × 9 columns</p>\n</div>"
     },
     "execution_count": 58,
     "metadata": {},
     "output_type": "execute_result"
    }
   ],
   "source": [
    "df.drop_duplicates()"
   ],
   "metadata": {
    "collapsed": false,
    "pycharm": {
     "name": "#%%\n"
    }
   }
  },
  {
   "cell_type": "markdown",
   "source": [
    "Загрузить данные из файла “ bmi.csv”. Взять оттуда две выборки. Одна выборка – это индекс массы тела людей c региона northwest, вторая выборка – это индекс массы тела людей с региона southwest. Сравнить средние значения этих выборок, используя t-критерий Стьюдента. Предварительно проверить выборки на нормальность (критерий Шопиро-Уилка) и на гомогенность дисперсии (критерий Бартлетта)."
   ],
   "metadata": {
    "collapsed": false,
    "pycharm": {
     "name": "#%% md\n"
    }
   }
  },
  {
   "cell_type": "code",
   "execution_count": 59,
   "outputs": [
    {
     "data": {
      "text/plain": "        bmi     region\n0    22.705  northwest\n1    28.880  northwest\n2    27.740  northwest\n3    25.840  northwest\n4    28.025  northwest\n..      ...        ...\n645  20.600  southwest\n646  38.600  southwest\n647  33.400  southwest\n648  44.700  southwest\n649  25.800  southwest\n\n[650 rows x 2 columns]",
      "text/html": "<div>\n<style scoped>\n    .dataframe tbody tr th:only-of-type {\n        vertical-align: middle;\n    }\n\n    .dataframe tbody tr th {\n        vertical-align: top;\n    }\n\n    .dataframe thead th {\n        text-align: right;\n    }\n</style>\n<table border=\"1\" class=\"dataframe\">\n  <thead>\n    <tr style=\"text-align: right;\">\n      <th></th>\n      <th>bmi</th>\n      <th>region</th>\n    </tr>\n  </thead>\n  <tbody>\n    <tr>\n      <th>0</th>\n      <td>22.705</td>\n      <td>northwest</td>\n    </tr>\n    <tr>\n      <th>1</th>\n      <td>28.880</td>\n      <td>northwest</td>\n    </tr>\n    <tr>\n      <th>2</th>\n      <td>27.740</td>\n      <td>northwest</td>\n    </tr>\n    <tr>\n      <th>3</th>\n      <td>25.840</td>\n      <td>northwest</td>\n    </tr>\n    <tr>\n      <th>4</th>\n      <td>28.025</td>\n      <td>northwest</td>\n    </tr>\n    <tr>\n      <th>...</th>\n      <td>...</td>\n      <td>...</td>\n    </tr>\n    <tr>\n      <th>645</th>\n      <td>20.600</td>\n      <td>southwest</td>\n    </tr>\n    <tr>\n      <th>646</th>\n      <td>38.600</td>\n      <td>southwest</td>\n    </tr>\n    <tr>\n      <th>647</th>\n      <td>33.400</td>\n      <td>southwest</td>\n    </tr>\n    <tr>\n      <th>648</th>\n      <td>44.700</td>\n      <td>southwest</td>\n    </tr>\n    <tr>\n      <th>649</th>\n      <td>25.800</td>\n      <td>southwest</td>\n    </tr>\n  </tbody>\n</table>\n<p>650 rows × 2 columns</p>\n</div>"
     },
     "execution_count": 59,
     "metadata": {},
     "output_type": "execute_result"
    }
   ],
   "source": [
    "read = pd.read_csv('bmi.csv')\n",
    "\n",
    "bmi = pd.DataFrame(read)\n",
    "\n",
    "bmi"
   ],
   "metadata": {
    "collapsed": false,
    "pycharm": {
     "name": "#%%\n"
    }
   }
  },
  {
   "cell_type": "code",
   "execution_count": 60,
   "outputs": [
    {
     "data": {
      "text/plain": "      bmi     region\n325  27.9  southwest\n326  34.4  southwest\n327  24.6  southwest\n328  40.3  southwest\n329  35.3  southwest\n..    ...        ...\n645  20.6  southwest\n646  38.6  southwest\n647  33.4  southwest\n648  44.7  southwest\n649  25.8  southwest\n\n[325 rows x 2 columns]",
      "text/html": "<div>\n<style scoped>\n    .dataframe tbody tr th:only-of-type {\n        vertical-align: middle;\n    }\n\n    .dataframe tbody tr th {\n        vertical-align: top;\n    }\n\n    .dataframe thead th {\n        text-align: right;\n    }\n</style>\n<table border=\"1\" class=\"dataframe\">\n  <thead>\n    <tr style=\"text-align: right;\">\n      <th></th>\n      <th>bmi</th>\n      <th>region</th>\n    </tr>\n  </thead>\n  <tbody>\n    <tr>\n      <th>325</th>\n      <td>27.9</td>\n      <td>southwest</td>\n    </tr>\n    <tr>\n      <th>326</th>\n      <td>34.4</td>\n      <td>southwest</td>\n    </tr>\n    <tr>\n      <th>327</th>\n      <td>24.6</td>\n      <td>southwest</td>\n    </tr>\n    <tr>\n      <th>328</th>\n      <td>40.3</td>\n      <td>southwest</td>\n    </tr>\n    <tr>\n      <th>329</th>\n      <td>35.3</td>\n      <td>southwest</td>\n    </tr>\n    <tr>\n      <th>...</th>\n      <td>...</td>\n      <td>...</td>\n    </tr>\n    <tr>\n      <th>645</th>\n      <td>20.6</td>\n      <td>southwest</td>\n    </tr>\n    <tr>\n      <th>646</th>\n      <td>38.6</td>\n      <td>southwest</td>\n    </tr>\n    <tr>\n      <th>647</th>\n      <td>33.4</td>\n      <td>southwest</td>\n    </tr>\n    <tr>\n      <th>648</th>\n      <td>44.7</td>\n      <td>southwest</td>\n    </tr>\n    <tr>\n      <th>649</th>\n      <td>25.8</td>\n      <td>southwest</td>\n    </tr>\n  </tbody>\n</table>\n<p>325 rows × 2 columns</p>\n</div>"
     },
     "execution_count": 60,
     "metadata": {},
     "output_type": "execute_result"
    }
   ],
   "source": [
    "sw = bmi[bmi['region'] == 'southwest']\n",
    "sw"
   ],
   "metadata": {
    "collapsed": false,
    "pycharm": {
     "name": "#%%\n"
    }
   }
  },
  {
   "cell_type": "code",
   "execution_count": 61,
   "outputs": [
    {
     "data": {
      "text/plain": "        bmi     region\n0    22.705  northwest\n1    28.880  northwest\n2    27.740  northwest\n3    25.840  northwest\n4    28.025  northwest\n..      ...        ...\n320  26.315  northwest\n321  31.065  northwest\n322  25.935  northwest\n323  30.970  northwest\n324  29.070  northwest\n\n[325 rows x 2 columns]",
      "text/html": "<div>\n<style scoped>\n    .dataframe tbody tr th:only-of-type {\n        vertical-align: middle;\n    }\n\n    .dataframe tbody tr th {\n        vertical-align: top;\n    }\n\n    .dataframe thead th {\n        text-align: right;\n    }\n</style>\n<table border=\"1\" class=\"dataframe\">\n  <thead>\n    <tr style=\"text-align: right;\">\n      <th></th>\n      <th>bmi</th>\n      <th>region</th>\n    </tr>\n  </thead>\n  <tbody>\n    <tr>\n      <th>0</th>\n      <td>22.705</td>\n      <td>northwest</td>\n    </tr>\n    <tr>\n      <th>1</th>\n      <td>28.880</td>\n      <td>northwest</td>\n    </tr>\n    <tr>\n      <th>2</th>\n      <td>27.740</td>\n      <td>northwest</td>\n    </tr>\n    <tr>\n      <th>3</th>\n      <td>25.840</td>\n      <td>northwest</td>\n    </tr>\n    <tr>\n      <th>4</th>\n      <td>28.025</td>\n      <td>northwest</td>\n    </tr>\n    <tr>\n      <th>...</th>\n      <td>...</td>\n      <td>...</td>\n    </tr>\n    <tr>\n      <th>320</th>\n      <td>26.315</td>\n      <td>northwest</td>\n    </tr>\n    <tr>\n      <th>321</th>\n      <td>31.065</td>\n      <td>northwest</td>\n    </tr>\n    <tr>\n      <th>322</th>\n      <td>25.935</td>\n      <td>northwest</td>\n    </tr>\n    <tr>\n      <th>323</th>\n      <td>30.970</td>\n      <td>northwest</td>\n    </tr>\n    <tr>\n      <th>324</th>\n      <td>29.070</td>\n      <td>northwest</td>\n    </tr>\n  </tbody>\n</table>\n<p>325 rows × 2 columns</p>\n</div>"
     },
     "execution_count": 61,
     "metadata": {},
     "output_type": "execute_result"
    }
   ],
   "source": [
    "nw = bmi[bmi['region'] == 'northwest']\n",
    "nw"
   ],
   "metadata": {
    "collapsed": false,
    "pycharm": {
     "name": "#%%\n"
    }
   }
  },
  {
   "cell_type": "code",
   "execution_count": 62,
   "outputs": [
    {
     "name": "stdout",
     "output_type": "stream",
     "text": [
      "проверка на нормальность пройдена\n"
     ]
    }
   ],
   "source": [
    "import scipy.stats as sts\n",
    "res1 = sts.shapiro(sw['bmi'])\n",
    "res2 = sts.shapiro(nw['bmi'])\n",
    "\n",
    "print('проверка на нормальность пройдена') if res1[1] > 0.05 and res2[1] > 0.05 else print('проверка на нормальность не пройдена')"
   ],
   "metadata": {
    "collapsed": false,
    "pycharm": {
     "name": "#%%\n"
    }
   }
  },
  {
   "cell_type": "code",
   "execution_count": 63,
   "outputs": [
    {
     "name": "stdout",
     "output_type": "stream",
     "text": [
      "проверка на гомогенность пройдена\n"
     ]
    }
   ],
   "source": [
    "res = sts.bartlett(sw['bmi'], nw['bmi'])\n",
    "\n",
    "print('проверка на гомогенность пройдена') if res[1] > 0.05 else print('проверка на гомогенность не пройдена')"
   ],
   "metadata": {
    "collapsed": false,
    "pycharm": {
     "name": "#%%\n"
    }
   }
  },
  {
   "cell_type": "code",
   "execution_count": 64,
   "outputs": [
    {
     "name": "stdout",
     "output_type": "stream",
     "text": [
      "средние значения различны\n"
     ]
    }
   ],
   "source": [
    "from scipy.stats import ttest_ind\n",
    "\n",
    "stat, p = ttest_ind(sw['bmi'], nw['bmi'])\n",
    "print('средние значения сходны') if p > 0.05 else print('средние значения различны')"
   ],
   "metadata": {
    "collapsed": false,
    "pycharm": {
     "name": "#%%\n"
    }
   }
  },
  {
   "cell_type": "markdown",
   "source": [
    "Кубик бросили 600 раз, получили следующие результаты:\n",
    "\n",
    "<table>\n",
    "<tr>\n",
    "<th>N</th>\n",
    "<th>Количество выпадений</th>\n",
    "</tr>\n",
    "\n",
    "<tr>\n",
    "<td>1</td>\n",
    "<td>97</td>\n",
    "</tr>\n",
    "\n",
    "<tr>\n",
    "<td>2</td>\n",
    "<td>98</td>\n",
    "</tr>\n",
    "\n",
    "<tr>\n",
    "<td>3</td>\n",
    "<td>109</td>\n",
    "</tr>\n",
    "\n",
    "<tr>\n",
    "<td>4</td>\n",
    "<td>95</td>\n",
    "</tr>\n",
    "\n",
    "<tr>\n",
    "<td>5</td>\n",
    "<td>97</td>\n",
    "</tr>\n",
    "\n",
    "<tr>\n",
    "<td>6</td>\n",
    "<td>104</td>\n",
    "</tr>\n",
    "\n",
    "</table>\n",
    "\n",
    "С помощью критерия Хи-квадрат проверить, является ли полученное распределение равномерным."
   ],
   "metadata": {
    "collapsed": false,
    "pycharm": {
     "name": "#%% md\n"
    }
   }
  },
  {
   "cell_type": "code",
   "execution_count": 65,
   "outputs": [
    {
     "name": "stdout",
     "output_type": "stream",
     "text": [
      "распределение равномерное\n"
     ]
    }
   ],
   "source": [
    "from scipy.stats import chisquare\n",
    "\n",
    "data = {\n",
    "  \"Количество выпадений\": [97, 98, 109, 95, 97, 104]\n",
    "}\n",
    "\n",
    "df = pd.DataFrame(data)\n",
    "stat, p = chisquare(df['Количество выпадений'])\n",
    "print('распределение равномерное') if p > 0.05 else print('распределение не равномерное')"
   ],
   "metadata": {
    "collapsed": false,
    "pycharm": {
     "name": "#%%\n"
    }
   }
  },
  {
   "cell_type": "markdown",
   "source": [
    "С помощью критерия Хи-квадрат проверить, являются ли переменные\n",
    "зависимыми.\n",
    "Создать датафрейм, используя следующий код.\n",
    "Использовать функцию scipy.stats.chi2_contingency().\n",
    "Влияет ли семейное положение на занятость?\n"
   ],
   "metadata": {
    "collapsed": false,
    "pycharm": {
     "name": "#%% md\n"
    }
   }
  },
  {
   "cell_type": "code",
   "execution_count": 66,
   "outputs": [
    {
     "name": "stdout",
     "output_type": "stream",
     "text": [
      "семейное положение влияет на занятость\n"
     ]
    },
    {
     "data": {
      "text/plain": "                      Женат  Гражданский брак  Не состоит в отношениях\nПолный рабочий день      89                80                       35\nЧастичная занятость      17                22                       44\nВременно не работает     11                20                       35\nНа домохозяйстве         43                35                        6\nНа пенсии                22                 6                        8\nУчёба                     1                 4                       22",
      "text/html": "<div>\n<style scoped>\n    .dataframe tbody tr th:only-of-type {\n        vertical-align: middle;\n    }\n\n    .dataframe tbody tr th {\n        vertical-align: top;\n    }\n\n    .dataframe thead th {\n        text-align: right;\n    }\n</style>\n<table border=\"1\" class=\"dataframe\">\n  <thead>\n    <tr style=\"text-align: right;\">\n      <th></th>\n      <th>Женат</th>\n      <th>Гражданский брак</th>\n      <th>Не состоит в отношениях</th>\n    </tr>\n  </thead>\n  <tbody>\n    <tr>\n      <th>Полный рабочий день</th>\n      <td>89</td>\n      <td>80</td>\n      <td>35</td>\n    </tr>\n    <tr>\n      <th>Частичная занятость</th>\n      <td>17</td>\n      <td>22</td>\n      <td>44</td>\n    </tr>\n    <tr>\n      <th>Временно не работает</th>\n      <td>11</td>\n      <td>20</td>\n      <td>35</td>\n    </tr>\n    <tr>\n      <th>На домохозяйстве</th>\n      <td>43</td>\n      <td>35</td>\n      <td>6</td>\n    </tr>\n    <tr>\n      <th>На пенсии</th>\n      <td>22</td>\n      <td>6</td>\n      <td>8</td>\n    </tr>\n    <tr>\n      <th>Учёба</th>\n      <td>1</td>\n      <td>4</td>\n      <td>22</td>\n    </tr>\n  </tbody>\n</table>\n</div>"
     },
     "execution_count": 66,
     "metadata": {},
     "output_type": "execute_result"
    }
   ],
   "source": [
    "data = pd.DataFrame({'Женат': [89,17,11,43,22,1],\n",
    "                     'Гражданский брак': [80,22,20,35,6,4],\n",
    "                     'Не состоит в отношениях': [35,44,35,6,8,22]\n",
    "                     })\n",
    "data.index = ['Полный рабочий день','Частичная занятость','Временно не работает','На домохозяйстве','На пенсии','Учёба']\n",
    "\n",
    "from scipy.stats import chi2_contingency\n",
    "\n",
    "stat, p, c = chi2_contingency(data)[:3]\n",
    "print('семейное положение не влияет на занятость') if p > 0.05 else print('семейное положение влияет на занятость')\n",
    "data"
   ],
   "metadata": {
    "collapsed": false,
    "pycharm": {
     "name": "#%%\n"
    }
   }
  }
 ],
 "metadata": {
  "kernelspec": {
   "display_name": "Python 3",
   "language": "python",
   "name": "python3"
  },
  "language_info": {
   "codemirror_mode": {
    "name": "ipython",
    "version": 2
   },
   "file_extension": ".py",
   "mimetype": "text/x-python",
   "name": "python",
   "nbconvert_exporter": "python",
   "pygments_lexer": "ipython2",
   "version": "2.7.6"
  }
 },
 "nbformat": 4,
 "nbformat_minor": 0
}